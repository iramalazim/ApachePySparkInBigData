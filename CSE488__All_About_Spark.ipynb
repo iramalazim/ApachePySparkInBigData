{
  "nbformat": 4,
  "nbformat_minor": 0,
  "metadata": {
    "kernelspec": {
      "display_name": "Python 3",
      "language": "python",
      "name": "python3"
    },
    "language_info": {
      "codemirror_mode": {
        "name": "ipython",
        "version": 3
      },
      "file_extension": ".py",
      "mimetype": "text/x-python",
      "name": "python",
      "nbconvert_exporter": "python",
      "pygments_lexer": "ipython3",
      "version": "3.7.3"
    },
    "colab": {
      "name": "CSE488_ All_About_Spark.ipynb",
      "provenance": [],
      "collapsed_sections": [],
      "machine_shape": "hm",
      "include_colab_link": true
    }
  },
  "cells": [
    {
      "cell_type": "markdown",
      "metadata": {
        "id": "view-in-github",
        "colab_type": "text"
      },
      "source": [
        "<a href=\"https://colab.research.google.com/github/iramvai007/ApachePySparkInBigData/blob/main/CSE488__All_About_Spark.ipynb\" target=\"_parent\"><img src=\"https://colab.research.google.com/assets/colab-badge.svg\" alt=\"Open In Colab\"/></a>"
      ]
    },
    {
      "cell_type": "markdown",
      "metadata": {
        "id": "GTwDFnjHMk25"
      },
      "source": [
        "# CSE488 \n",
        "## Spark Tutorial in pySpark\n",
        "\n",
        "In this tutorial you will learn how to use [Apache Spark](https://spark.apache.org) in local mode on a Colab enviroment.\n",
        "\n",
        "Credits to [Tiziano Piccardi](http://piccardi.me/) for his Spark Tutorial used in the Applied Data Analysis class at EPFL."
      ]
    },
    {
      "cell_type": "markdown",
      "metadata": {
        "id": "eXQzA01OS_yQ"
      },
      "source": [
        "### Setup"
      ]
    },
    {
      "cell_type": "markdown",
      "metadata": {
        "id": "AbYZoVVWOZA5"
      },
      "source": [
        "Let's setup Spark on your Colab environment.  Run the cell below!"
      ]
    },
    {
      "cell_type": "code",
      "source": [
        "!apt-get update"
      ],
      "metadata": {
        "colab": {
          "base_uri": "https://localhost:8080/"
        },
        "id": "forh8rFdYq4y",
        "outputId": "2b7aec19-3fc4-477e-caf3-e3a55aa7ea55"
      },
      "execution_count": null,
      "outputs": [
        {
          "output_type": "stream",
          "name": "stdout",
          "text": [
            "\r0% [Working]\r            \rHit:1 http://security.ubuntu.com/ubuntu bionic-security InRelease\n",
            "\r0% [Connecting to archive.ubuntu.com (91.189.88.152)] [Connected to cloud.r-pro\r0% [1 InRelease gpgv 88.7 kB] [Connecting to archive.ubuntu.com (91.189.88.152)\r                                                                               \rHit:2 https://cloud.r-project.org/bin/linux/ubuntu bionic-cran40/ InRelease\n",
            "Ign:3 https://developer.download.nvidia.com/compute/cuda/repos/ubuntu1804/x86_64  InRelease\n",
            "Hit:4 http://archive.ubuntu.com/ubuntu bionic InRelease\n",
            "Ign:5 https://developer.download.nvidia.com/compute/machine-learning/repos/ubuntu1804/x86_64  InRelease\n",
            "Hit:6 https://developer.download.nvidia.com/compute/cuda/repos/ubuntu1804/x86_64  Release\n",
            "Hit:7 http://ppa.launchpad.net/c2d4u.team/c2d4u4.0+/ubuntu bionic InRelease\n",
            "Hit:8 https://developer.download.nvidia.com/compute/machine-learning/repos/ubuntu1804/x86_64  Release\n",
            "Hit:9 http://archive.ubuntu.com/ubuntu bionic-updates InRelease\n",
            "Hit:10 http://archive.ubuntu.com/ubuntu bionic-backports InRelease\n",
            "Hit:11 http://ppa.launchpad.net/cran/libgit2/ubuntu bionic InRelease\n",
            "Hit:12 http://ppa.launchpad.net/deadsnakes/ppa/ubuntu bionic InRelease\n",
            "Hit:13 http://ppa.launchpad.net/graphics-drivers/ppa/ubuntu bionic InRelease\n",
            "Reading package lists... Done\n"
          ]
        }
      ]
    },
    {
      "cell_type": "code",
      "metadata": {
        "id": "dhzk3GE6S9RC",
        "colab": {
          "base_uri": "https://localhost:8080/"
        },
        "outputId": "d8e4522d-9393-4442-b4ff-0a002b4e77bd"
      },
      "source": [
        "!pip install pyspark\n",
        "!pip install -U -q PyDrive\n",
        "!apt install openjdk-8-jdk-headless -qq\n",
        "!pip install graphframes\n"
      ],
      "execution_count": null,
      "outputs": [
        {
          "output_type": "stream",
          "name": "stdout",
          "text": [
            "Requirement already satisfied: pyspark in /usr/local/lib/python3.7/dist-packages (3.2.0)\n",
            "Requirement already satisfied: py4j==0.10.9.2 in /usr/local/lib/python3.7/dist-packages (from pyspark) (0.10.9.2)\n",
            "openjdk-8-jdk-headless is already the newest version (8u312-b07-0ubuntu1~18.04).\n",
            "0 upgraded, 0 newly installed, 0 to remove and 85 not upgraded.\n",
            "Requirement already satisfied: graphframes in /usr/local/lib/python3.7/dist-packages (0.6)\n",
            "Requirement already satisfied: nose in /usr/local/lib/python3.7/dist-packages (from graphframes) (1.3.7)\n",
            "Requirement already satisfied: numpy in /usr/local/lib/python3.7/dist-packages (from graphframes) (1.19.5)\n"
          ]
        }
      ]
    },
    {
      "cell_type": "code",
      "source": [
        "import os\n",
        "os.environ[\"JAVA_HOME\"] = \"/usr/lib/jvm/java-8-openjdk-amd64\"\n",
        "os.environ[\"PYSPARK_SUBMIT_ARGS\"] = \"--packages graphframes:graphframes:0.8.1-spark3.0-s_2.12 pyspark-shell\""
      ],
      "metadata": {
        "id": "bc-94Mi2d8n3"
      },
      "execution_count": null,
      "outputs": []
    },
    {
      "cell_type": "markdown",
      "metadata": {
        "id": "ctU1dYjfOif7"
      },
      "source": [
        "Now we authenticate a Google Drive client to download the file we will be processing in our Spark job.\n",
        "\n",
        "**Make sure to follow the interactive instructions.**"
      ]
    },
    {
      "cell_type": "code",
      "metadata": {
        "id": "1dfnX7IAOkvH"
      },
      "source": [
        "from pydrive.auth import GoogleAuth\n",
        "from pydrive.drive import GoogleDrive\n",
        "from google.colab import auth\n",
        "from oauth2client.client import GoogleCredentials\n",
        "\n",
        "# Authenticate and create the PyDrive client\n",
        "auth.authenticate_user()\n",
        "gauth = GoogleAuth()\n",
        "gauth.credentials = GoogleCredentials.get_application_default()\n",
        "drive = GoogleDrive(gauth)"
      ],
      "execution_count": null,
      "outputs": []
    },
    {
      "cell_type": "code",
      "metadata": {
        "id": "UF5nuSdyTJpc"
      },
      "source": [
        "id='1L6pCQkldvdBoaEhRFzL0VnrggEFvqON4'\n",
        "downloaded = drive.CreateFile({'id': id}) \n",
        "downloaded.GetContentFile('Bombing_Operations.json.gz')\n",
        "\n",
        "id='14dyBmcTBA32uXPxDbqr0bFDIzGxMTWwl'\n",
        "downloaded = drive.CreateFile({'id': id}) \n",
        "downloaded.GetContentFile('Aircraft_Glossary.json.gz')  "
      ],
      "execution_count": null,
      "outputs": []
    },
    {
      "cell_type": "markdown",
      "metadata": {
        "id": "wA49WWqmO5rR"
      },
      "source": [
        "If you executed the cells above, you should be able to see the files *Bombing_Operations.json.gz* and *Aircraft_Glossary.json.gz* under the \"Files\" tab on the left panel."
      ]
    },
    {
      "cell_type": "code",
      "metadata": {
        "id": "xgQaRx6rSaf9"
      },
      "source": [
        "# Let's import the libraries we will need\n",
        "import pandas as pd\n",
        "import numpy as np\n",
        "import matplotlib.pyplot as plt\n",
        "%matplotlib inline\n",
        "\n",
        "import pyspark\n",
        "from pyspark.sql import *\n",
        "from pyspark.sql.functions import *\n",
        "from pyspark import SparkContext, SparkConf"
      ],
      "execution_count": null,
      "outputs": []
    },
    {
      "cell_type": "markdown",
      "metadata": {
        "id": "uUD5XpD_SagA"
      },
      "source": [
        "Let's initialize the Spark context.\n"
      ]
    },
    {
      "cell_type": "code",
      "metadata": {
        "id": "7ft3VivrSagB",
        "colab": {
          "base_uri": "https://localhost:8080/",
          "height": 235
        },
        "outputId": "a79f95a4-1184-4517-899f-bfce13e0eb23"
      },
      "source": [
        "# create the session\n",
        "conf = SparkConf().set(\"spark.ui.port\", \"4050\")\n",
        "\n",
        "# create the context\n",
        "sc = pyspark.SparkContext(conf=conf)\n",
        "spark = SparkSession.builder.getOrCreate()"
      ],
      "execution_count": null,
      "outputs": [
        {
          "output_type": "error",
          "ename": "NameError",
          "evalue": "ignored",
          "traceback": [
            "\u001b[0;31m---------------------------------------------------------------------------\u001b[0m",
            "\u001b[0;31mNameError\u001b[0m                                 Traceback (most recent call last)",
            "\u001b[0;32m<ipython-input-1-03ad07eeace4>\u001b[0m in \u001b[0;36m<module>\u001b[0;34m()\u001b[0m\n\u001b[1;32m      1\u001b[0m \u001b[0;31m# create the session\u001b[0m\u001b[0;34m\u001b[0m\u001b[0;34m\u001b[0m\u001b[0;34m\u001b[0m\u001b[0m\n\u001b[0;32m----> 2\u001b[0;31m \u001b[0mconf\u001b[0m \u001b[0;34m=\u001b[0m \u001b[0mSparkConf\u001b[0m\u001b[0;34m(\u001b[0m\u001b[0;34m)\u001b[0m\u001b[0;34m.\u001b[0m\u001b[0mset\u001b[0m\u001b[0;34m(\u001b[0m\u001b[0;34m\"spark.ui.port\"\u001b[0m\u001b[0;34m,\u001b[0m \u001b[0;34m\"4050\"\u001b[0m\u001b[0;34m)\u001b[0m\u001b[0;34m\u001b[0m\u001b[0;34m\u001b[0m\u001b[0m\n\u001b[0m\u001b[1;32m      3\u001b[0m \u001b[0;34m\u001b[0m\u001b[0m\n\u001b[1;32m      4\u001b[0m \u001b[0;31m# create the context\u001b[0m\u001b[0;34m\u001b[0m\u001b[0;34m\u001b[0m\u001b[0;34m\u001b[0m\u001b[0m\n\u001b[1;32m      5\u001b[0m \u001b[0msc\u001b[0m \u001b[0;34m=\u001b[0m \u001b[0mpyspark\u001b[0m\u001b[0;34m.\u001b[0m\u001b[0mSparkContext\u001b[0m\u001b[0;34m(\u001b[0m\u001b[0mconf\u001b[0m\u001b[0;34m=\u001b[0m\u001b[0mconf\u001b[0m\u001b[0;34m)\u001b[0m\u001b[0;34m\u001b[0m\u001b[0;34m\u001b[0m\u001b[0m\n",
            "\u001b[0;31mNameError\u001b[0m: name 'SparkConf' is not defined"
          ]
        }
      ]
    },
    {
      "cell_type": "markdown",
      "metadata": {
        "id": "-n20ixkgSagD"
      },
      "source": [
        "You can easily check the current version and get the link of the web interface. In the Spark UI, you can monitor the progress of your job and debug the performance bottlenecks (if your Colab is running with a **local runtime**)."
      ]
    },
    {
      "cell_type": "code",
      "metadata": {
        "id": "Fl4RHbqFSagE",
        "colab": {
          "base_uri": "https://localhost:8080/",
          "height": 219
        },
        "outputId": "e0e07d20-fc96-4722-f1fa-2766f5869344"
      },
      "source": [
        "spark"
      ],
      "execution_count": null,
      "outputs": [
        {
          "output_type": "execute_result",
          "data": {
            "text/html": [
              "\n",
              "            <div>\n",
              "                <p><b>SparkSession - in-memory</b></p>\n",
              "                \n",
              "        <div>\n",
              "            <p><b>SparkContext</b></p>\n",
              "\n",
              "            <p><a href=\"http://5f08ec702e73:4050\">Spark UI</a></p>\n",
              "\n",
              "            <dl>\n",
              "              <dt>Version</dt>\n",
              "                <dd><code>v3.2.0</code></dd>\n",
              "              <dt>Master</dt>\n",
              "                <dd><code>local[*]</code></dd>\n",
              "              <dt>AppName</dt>\n",
              "                <dd><code>pyspark-shell</code></dd>\n",
              "            </dl>\n",
              "        </div>\n",
              "        \n",
              "            </div>\n",
              "        "
            ],
            "text/plain": [
              "<pyspark.sql.session.SparkSession at 0x7f31d9ff9610>"
            ]
          },
          "metadata": {},
          "execution_count": 8
        }
      ]
    },
    {
      "cell_type": "markdown",
      "metadata": {
        "id": "xlw1Mgx0T9-l"
      },
      "source": [
        "If you are running this Colab on the Google hosted runtime, the cell below will create a *ngrok* tunnel which will allow you to still check the Spark UI."
      ]
    },
    {
      "cell_type": "code",
      "metadata": {
        "id": "cYYlUTWYQMjb",
        "colab": {
          "base_uri": "https://localhost:8080/"
        },
        "outputId": "06c9e0bf-7d19-4ba6-fb84-fab5265386f2"
      },
      "source": [
        "!wget https://bin.equinox.io/c/4VmDzA7iaHb/ngrok-stable-linux-amd64.zip\n",
        "!unzip ngrok-stable-linux-amd64.zip\n",
        "get_ipython().system_raw('./ngrok http 4050 &')\n",
        "!curl -s http://localhost:4040/api/tunnels | python3 -c \\\n",
        "    \"import sys, json; print(json.load(sys.stdin)['tunnels'][0]['public_url'])\""
      ],
      "execution_count": null,
      "outputs": [
        {
          "output_type": "stream",
          "name": "stdout",
          "text": [
            "--2021-12-26 11:12:40--  https://bin.equinox.io/c/4VmDzA7iaHb/ngrok-stable-linux-amd64.zip\n",
            "Resolving bin.equinox.io (bin.equinox.io)... 52.202.168.65, 54.237.133.81, 18.205.222.128, ...\n",
            "Connecting to bin.equinox.io (bin.equinox.io)|52.202.168.65|:443... connected.\n",
            "HTTP request sent, awaiting response... 200 OK\n",
            "Length: 13832437 (13M) [application/octet-stream]\n",
            "Saving to: ‘ngrok-stable-linux-amd64.zip’\n",
            "\n",
            "ngrok-stable-linux- 100%[===================>]  13.19M  8.45MB/s    in 1.6s    \n",
            "\n",
            "2021-12-26 11:12:41 (8.45 MB/s) - ‘ngrok-stable-linux-amd64.zip’ saved [13832437/13832437]\n",
            "\n",
            "Archive:  ngrok-stable-linux-amd64.zip\n",
            "  inflating: ngrok                   \n",
            "Traceback (most recent call last):\n",
            "  File \"<string>\", line 1, in <module>\n",
            "IndexError: list index out of range\n"
          ]
        }
      ]
    },
    {
      "cell_type": "markdown",
      "metadata": {
        "id": "gewv-lKMSagI"
      },
      "source": [
        "# Vietnam War\n",
        "\n",
        "**Pres. Johnson**: _What do you think about this Vietnam thing? I’d like to hear you talk a little bit._\n",
        "\n",
        "**Sen. Russell**: _Well, frankly, Mr. President, it’s the damn worse mess that I ever saw, and I don’t like to brag and I never have been right many times in my life, but I knew that we were going to get into this sort of mess when we went in there._\n",
        "\n",
        "May 27, 1964\n",
        "\n",
        "![banner](https://raw.githubusercontent.com/epfl-ada/2019/c17af0d3c73f11cb083717b7408fedd86245dc4d/Tutorials/04%20-%20Scaling%20Up/img/banner.jpg)"
      ]
    },
    {
      "cell_type": "markdown",
      "metadata": {
        "id": "skjUv84VSagJ"
      },
      "source": [
        "----\n",
        "\n",
        "The Vietnam War, also known as the Second Indochina War, and in Vietnam as the Resistance War Against America or simply the American War, was a conflict that occurred in Vietnam, Laos, and Cambodia from 1 November 1955 to the fall of Saigon on 30 April 1975. It was the second of the Indochina Wars and was officially fought between North Vietnam and the government of South Vietnam.\n",
        "\n",
        "**The dataset describes all the air force operation in during the Vietnam War.**\n",
        "\n",
        "**Bombing_Operations** [Get the dataset here](https://drive.google.com/a/epfl.ch/file/d/1L6pCQkldvdBoaEhRFzL0VnrggEFvqON4/view?usp=sharing)\n",
        "\n",
        "- AirCraft: _Aircraft model (example: EC-47)_\n",
        "- ContryFlyingMission: _Country_\n",
        "- MissionDate: _Date of the mission_\n",
        "- OperationSupported: _Supported War operation_ (example: [Operation Rolling Thunder](https://en.wikipedia.org/wiki/Operation_Rolling_Thunder))\n",
        "- PeriodOfDay: _Day or night_\n",
        "- TakeoffLocation: _Take off airport_\n",
        "- TimeOnTarget\n",
        "- WeaponType\n",
        "- WeaponsLoadedWeight\n",
        "\n",
        "**Aircraft_Glossary** [Get the dataset here](https://drive.google.com/a/epfl.ch/file/d/14dyBmcTBA32uXPxDbqr0bFDIzGxMTWwl/view?usp=sharing)\n",
        "\n",
        "- AirCraft: _Aircraft model (example: EC-47)_\n",
        "- AirCraftName\n",
        "- AirCraftType\n",
        "\n",
        "**Dataset Information:**\n",
        "\n",
        "THOR is a painstakingly cultivated database of historic aerial bombings from World War I through Vietnam. THOR has already proven useful in finding unexploded ordnance in Southeast Asia and improving Air Force combat tactics:\n",
        "https://www.kaggle.com/usaf/vietnam-war-bombing-operations"
      ]
    },
    {
      "cell_type": "markdown",
      "metadata": {
        "id": "VSWoULeWSagJ"
      },
      "source": [
        "Load the datasets:"
      ]
    },
    {
      "cell_type": "code",
      "metadata": {
        "id": "XLyVPuLXSagK"
      },
      "source": [
        "Bombing_Operations = spark.read.json(\"Bombing_Operations.json.gz\")\n",
        "Aircraft_Glossary = spark.read.json(\"Aircraft_Glossary.json.gz\")"
      ],
      "execution_count": null,
      "outputs": []
    },
    {
      "cell_type": "code",
      "metadata": {
        "colab": {
          "base_uri": "https://localhost:8080/"
        },
        "id": "J-uCWa7ssotr",
        "outputId": "82dec170-56fa-4335-bc02-206064590344"
      },
      "source": [
        "Bombing_Operations.printSchema()"
      ],
      "execution_count": null,
      "outputs": [
        {
          "output_type": "stream",
          "name": "stdout",
          "text": [
            "root\n",
            " |-- AirCraft: string (nullable = true)\n",
            " |-- ContryFlyingMission: string (nullable = true)\n",
            " |-- MissionDate: string (nullable = true)\n",
            " |-- OperationSupported: string (nullable = true)\n",
            " |-- PeriodOfDay: string (nullable = true)\n",
            " |-- TakeoffLocation: string (nullable = true)\n",
            " |-- TargetCountry: string (nullable = true)\n",
            " |-- TimeOnTarget: double (nullable = true)\n",
            " |-- WeaponType: string (nullable = true)\n",
            " |-- WeaponsLoadedWeight: long (nullable = true)\n",
            "\n"
          ]
        }
      ]
    },
    {
      "cell_type": "code",
      "metadata": {
        "colab": {
          "base_uri": "https://localhost:8080/"
        },
        "id": "bBlWQt8-vYAh",
        "outputId": "1ca7133b-ee15-44e7-fc75-c60e7bdfafbb"
      },
      "source": [
        "Aircraft_Glossary.printSchema()"
      ],
      "execution_count": null,
      "outputs": [
        {
          "output_type": "stream",
          "name": "stdout",
          "text": [
            "root\n",
            " |-- AirCraft: string (nullable = true)\n",
            " |-- AirCraftName: string (nullable = true)\n",
            " |-- AirCraftType: string (nullable = true)\n",
            "\n"
          ]
        }
      ]
    },
    {
      "cell_type": "code",
      "metadata": {
        "colab": {
          "base_uri": "https://localhost:8080/"
        },
        "id": "h-c8PVT0sq8h",
        "outputId": "e0e0df76-1aa5-46fa-89b3-7e48d50253fc"
      },
      "source": [
        "Bombing_Operations.show()"
      ],
      "execution_count": null,
      "outputs": [
        {
          "output_type": "stream",
          "name": "stdout",
          "text": [
            "+--------+--------------------+-----------+------------------+-----------+---------------+-------------+------------+--------------------+-------------------+\n",
            "|AirCraft| ContryFlyingMission|MissionDate|OperationSupported|PeriodOfDay|TakeoffLocation|TargetCountry|TimeOnTarget|          WeaponType|WeaponsLoadedWeight|\n",
            "+--------+--------------------+-----------+------------------+-----------+---------------+-------------+------------+--------------------+-------------------+\n",
            "|   EC-47|UNITED STATES OF ...| 1971-06-05|              null|          D|   TAN SON NHUT|     CAMBODIA|      1005.0|                null|                  0|\n",
            "|   EC-47|UNITED STATES OF ...| 1972-12-26|              null|          D|  NAKHON PHANOM|SOUTH VIETNAM|       530.0|                null|                  0|\n",
            "|    RF-4|UNITED STATES OF ...| 1973-07-28|              null|          D|       UDORN AB|         LAOS|       730.0|                null|                  0|\n",
            "|     A-1|UNITED STATES OF ...| 1970-02-02|              null|          N|  NAKHON PHANOM|         LAOS|      1415.0|BLU27 FIRE BOMB (...|              17400|\n",
            "|    A-37|     VIETNAM (SOUTH)| 1970-10-08|              null|          D|         DANANG|SOUTH VIETNAM|      1240.0|                null|                  0|\n",
            "|     F-4|UNITED STATES OF ...| 1970-11-25|              null|          D|        UBON AB|         LAOS|       650.0|MK 82 GP BOMB (50...|              31860|\n",
            "|     A-4|UNITED STATES OF ...| 1972-03-08|              null|          D|    TONKIN GULF|         LAOS|      1005.0|                null|                  0|\n",
            "|     F-4|UNITED STATES OF ...| 1971-12-27|              null|       null|       UDORN AB|         LAOS|         0.0|                null|                  0|\n",
            "|     A-7|UNITED STATES OF ...| 1972-05-24|              null|       null|    TONKIN GULF|NORTH VIETNAM|         0.0|                null|                  0|\n",
            "|   EC-47|UNITED STATES OF ...| 1972-09-12|              null|          D|   TAN SON NHUT|SOUTH VIETNAM|       710.0|                null|                  0|\n",
            "|   CH-53|UNITED STATES OF ...| 1974-06-13|              null|          N|  NAKHON PHANOM|     THAILAND|      1800.0|                null|                  0|\n",
            "|   CH-53|UNITED STATES OF ...| 1974-12-19|              null|          D|  NAKHON PHANOM|     THAILAND|       800.0|                null|                  0|\n",
            "|     O-1|     VIETNAM (SOUTH)| 1973-10-24|              null|          D|      NHA TRANG|SOUTH VIETNAM|       800.0|                null|                  0|\n",
            "|    UH-1|     VIETNAM (SOUTH)| 1974-03-19|              null|          D|        PHU CAT|SOUTH VIETNAM|       800.0|        CARGO (TONS)|                  0|\n",
            "|     C-7|UNITED STATES OF ...| 1970-05-08|              null|          D|   TAN SON NHUT|SOUTH VIETNAM|       800.0|                null|                  0|\n",
            "|     A-6|UNITED STATES OF ...| 1971-05-12|              null|          N|    TONKIN GULF|         LAOS|      1304.0|CBU24 AN PR/MT (B...|              33200|\n",
            "|   EB-66|UNITED STATES OF ...| 1971-12-03|              null|          N|          KORAT|         LAOS|      1445.0|                null|                  0|\n",
            "|    T-28|                LAOS| 1971-12-19|              null|          D|     SAVANAKHET|         LAOS|       230.0|                null|                  0|\n",
            "|     A-6|UNITED STATES OF ...| 1972-08-18|              null|       null|    TONKIN GULF|NORTH VIETNAM|         0.0|                null|                  0|\n",
            "|     A-7|UNITED STATES OF ...| 1972-10-15|              null|          D|    TONKIN GULF|NORTH VIETNAM|       110.0|                null|                  0|\n",
            "+--------+--------------------+-----------+------------------+-----------+---------------+-------------+------------+--------------------+-------------------+\n",
            "only showing top 20 rows\n",
            "\n"
          ]
        }
      ]
    },
    {
      "cell_type": "code",
      "metadata": {
        "colab": {
          "base_uri": "https://localhost:8080/"
        },
        "id": "C6Mgq-iwsxfn",
        "outputId": "51665e37-d564-4f80-b473-aa38cbf359dc"
      },
      "source": [
        "Aircraft_Glossary.show()"
      ],
      "execution_count": null,
      "outputs": [
        {
          "output_type": "stream",
          "name": "stdout",
          "text": [
            "+--------+--------------------+--------------------+\n",
            "|AirCraft|        AirCraftName|        AirCraftType|\n",
            "+--------+--------------------+--------------------+\n",
            "|     A-1|Douglas A-1 Skyra...|         Fighter Jet|\n",
            "|    A-26|Douglas A-26 Invader|        Light Bomber|\n",
            "|    A-37|Cessna A-37 Drago...|Light ground-atta...|\n",
            "|     A-4|McDonnell Douglas...|         Fighter Jet|\n",
            "|     A-5|North American A-...|          Bomber Jet|\n",
            "|     A-6|Grumman A-6 Intruder|     Attack Aircraft|\n",
            "|     A-7|  LTV A-7 Corsair II|     Attack Aircraft|\n",
            "|  AC-119|Fairchild AC-119 ...|Military Transpor...|\n",
            "|  AC-123|Fairchild C-123 P...|Military Transpor...|\n",
            "|  AC-130|Lockheed AC-130 S...|Fixed wing ground...|\n",
            "|   AC-47|Douglas AC-47 Spooky|Ground attack air...|\n",
            "|    AH-1| Bell AH-1 HueyCobra|          Helicopter|\n",
            "|     B-1| Rockwell B-1 Lancer|Heavy strategic b...|\n",
            "|    B-52| B-52 Stratofortress|    Strategic bomber|\n",
            "|    B-57|Martin B-57 Canberra|     Tactical Bomber|\n",
            "|    B-66|Douglas B-66 Dest...|        Light Bomber|\n",
            "|     C-1| Grumman C-1A Trader|           Transport|\n",
            "|   C-117|     C-117D Skytrain|           Transport|\n",
            "|   C-119|Fairchild C-119 F...|Military Transpor...|\n",
            "|   C-123|Fairchild C-123 P...|Military Transpor...|\n",
            "+--------+--------------------+--------------------+\n",
            "only showing top 20 rows\n",
            "\n"
          ]
        }
      ]
    },
    {
      "cell_type": "code",
      "metadata": {
        "colab": {
          "base_uri": "https://localhost:8080/"
        },
        "id": "0k9aHlhjvmGu",
        "outputId": "ab92f834-23a6-487a-fdb1-80b8bcfce87d"
      },
      "source": [
        "Aircraft_Glossary.take(5)"
      ],
      "execution_count": null,
      "outputs": [
        {
          "output_type": "execute_result",
          "data": {
            "text/plain": [
              "[Row(AirCraft='A-1', AirCraftName='Douglas A-1 Skyraider', AirCraftType='Fighter Jet'),\n",
              " Row(AirCraft='A-26', AirCraftName='Douglas A-26 Invader', AirCraftType='Light Bomber'),\n",
              " Row(AirCraft='A-37', AirCraftName='Cessna A-37 Dragonfly', AirCraftType='Light ground-attack aircraft'),\n",
              " Row(AirCraft='A-4', AirCraftName='McDonnell Douglas A-4 Skyhawk', AirCraftType='Fighter Jet'),\n",
              " Row(AirCraft='A-5', AirCraftName='North American A-5 Vigilante', AirCraftType='Bomber Jet')]"
            ]
          },
          "metadata": {},
          "execution_count": 13
        }
      ]
    },
    {
      "cell_type": "markdown",
      "metadata": {
        "id": "BhLpG7zb4A9l"
      },
      "source": [
        "##projecting colums\n"
      ]
    },
    {
      "cell_type": "code",
      "metadata": {
        "colab": {
          "base_uri": "https://localhost:8080/"
        },
        "id": "u3LCAqCq328r",
        "outputId": "862ee3a2-32b0-41c7-9361-b05ba311fa95"
      },
      "source": [
        "Aircraft_Glossary.select(\"AirCraft\", \"AirCraftName\").show()\n"
      ],
      "execution_count": null,
      "outputs": [
        {
          "output_type": "stream",
          "name": "stdout",
          "text": [
            "+--------+--------------------+\n",
            "|AirCraft|        AirCraftName|\n",
            "+--------+--------------------+\n",
            "|     A-1|Douglas A-1 Skyra...|\n",
            "|    A-26|Douglas A-26 Invader|\n",
            "|    A-37|Cessna A-37 Drago...|\n",
            "|     A-4|McDonnell Douglas...|\n",
            "|     A-5|North American A-...|\n",
            "|     A-6|Grumman A-6 Intruder|\n",
            "|     A-7|  LTV A-7 Corsair II|\n",
            "|  AC-119|Fairchild AC-119 ...|\n",
            "|  AC-123|Fairchild C-123 P...|\n",
            "|  AC-130|Lockheed AC-130 S...|\n",
            "|   AC-47|Douglas AC-47 Spooky|\n",
            "|    AH-1| Bell AH-1 HueyCobra|\n",
            "|     B-1| Rockwell B-1 Lancer|\n",
            "|    B-52| B-52 Stratofortress|\n",
            "|    B-57|Martin B-57 Canberra|\n",
            "|    B-66|Douglas B-66 Dest...|\n",
            "|     C-1| Grumman C-1A Trader|\n",
            "|   C-117|     C-117D Skytrain|\n",
            "|   C-119|Fairchild C-119 F...|\n",
            "|   C-123|Fairchild C-123 P...|\n",
            "+--------+--------------------+\n",
            "only showing top 20 rows\n",
            "\n"
          ]
        }
      ]
    },
    {
      "cell_type": "markdown",
      "metadata": {
        "id": "2jxFK0Df4XmU"
      },
      "source": [
        "##selecting tuples"
      ]
    },
    {
      "cell_type": "code",
      "metadata": {
        "colab": {
          "base_uri": "https://localhost:8080/"
        },
        "id": "fnpSCu-B3-YC",
        "outputId": "d506f63c-0754-43fb-c3d9-992268c81ee4"
      },
      "source": [
        "Aircraft_Glossary.where(Aircraft_Glossary.AirCraft=='A-1').show() #it shows the result in another format or it's a formatted output "
      ],
      "execution_count": null,
      "outputs": [
        {
          "output_type": "stream",
          "name": "stdout",
          "text": [
            "+--------+--------------------+------------+\n",
            "|AirCraft|        AirCraftName|AirCraftType|\n",
            "+--------+--------------------+------------+\n",
            "|     A-1|Douglas A-1 Skyra...| Fighter Jet|\n",
            "+--------+--------------------+------------+\n",
            "\n"
          ]
        }
      ]
    },
    {
      "cell_type": "code",
      "metadata": {
        "colab": {
          "base_uri": "https://localhost:8080/"
        },
        "id": "Ftk1AtYg4oUb",
        "outputId": "d2b9c1ad-52cb-4e0a-a196-8e1158aeaec7"
      },
      "source": [
        "Aircraft_Glossary.where(\"AirCraft=='A-1'\").collect() #it shows in raw format"
      ],
      "execution_count": null,
      "outputs": [
        {
          "output_type": "execute_result",
          "data": {
            "text/plain": [
              "[Row(AirCraft='A-1', AirCraftName='Douglas A-1 Skyraider', AirCraftType='Fighter Jet')]"
            ]
          },
          "metadata": {},
          "execution_count": 16
        }
      ]
    },
    {
      "cell_type": "markdown",
      "metadata": {
        "id": "raPKFicg5EPa"
      },
      "source": [
        "##counting the number of rows"
      ]
    },
    {
      "cell_type": "code",
      "metadata": {
        "colab": {
          "base_uri": "https://localhost:8080/"
        },
        "id": "AG6J27an410T",
        "outputId": "e24f5d09-ba72-4cee-a412-656f10a6ccf8"
      },
      "source": [
        "Bombing_Operations.count()"
      ],
      "execution_count": null,
      "outputs": [
        {
          "output_type": "execute_result",
          "data": {
            "text/plain": [
              "4400775"
            ]
          },
          "metadata": {},
          "execution_count": 16
        }
      ]
    },
    {
      "cell_type": "code",
      "metadata": {
        "id": "Kd96JMjU48uJ"
      },
      "source": [
        "x=Aircraft_Glossary.count()"
      ],
      "execution_count": null,
      "outputs": []
    },
    {
      "cell_type": "code",
      "metadata": {
        "colab": {
          "base_uri": "https://localhost:8080/"
        },
        "id": "Nk6DyUDP5Cpx",
        "outputId": "6352d0a9-01a7-43cf-e7f1-cf387d2e1e8b"
      },
      "source": [
        "print(\"there are %d\",x, \"rows\")"
      ],
      "execution_count": null,
      "outputs": [
        {
          "output_type": "stream",
          "name": "stdout",
          "text": [
            "there are %d 104 rows\n"
          ]
        }
      ]
    },
    {
      "cell_type": "markdown",
      "metadata": {
        "id": "HdGnb_W86DvB"
      },
      "source": [
        "##Writing the Queries"
      ]
    },
    {
      "cell_type": "markdown",
      "metadata": {
        "id": "paxtzGbN6J3n"
      },
      "source": [
        "**1.Find the aircraft model and the mission date for the operations place over LAOS (target country)**\n",
        "\n",
        "**2.Find the Aircraft model, the mission date and take off location for the operation took place over LAOS and the duration was more than 1000**"
      ]
    },
    {
      "cell_type": "code",
      "metadata": {
        "id": "uehZue6m5VNJ"
      },
      "source": [
        "##sol 1\n",
        "df_q1= Bombing_Operations.where(\"TargetCountry = 'LAOS'\").select(\"AirCraft\", \"MissionDate\")"
      ],
      "execution_count": null,
      "outputs": []
    },
    {
      "cell_type": "code",
      "metadata": {
        "colab": {
          "base_uri": "https://localhost:8080/",
          "height": 165
        },
        "id": "w6OM7j8x7Qzi",
        "outputId": "57ffb4c5-fa88-4265-ce22-42961a0c30af"
      },
      "source": [
        "df_q1.show()\n"
      ],
      "execution_count": null,
      "outputs": [
        {
          "output_type": "error",
          "ename": "NameError",
          "evalue": "ignored",
          "traceback": [
            "\u001b[0;31m---------------------------------------------------------------------------\u001b[0m",
            "\u001b[0;31mNameError\u001b[0m                                 Traceback (most recent call last)",
            "\u001b[0;32m<ipython-input-19-d537b0a3f3b4>\u001b[0m in \u001b[0;36m<module>\u001b[0;34m()\u001b[0m\n\u001b[0;32m----> 1\u001b[0;31m \u001b[0mdf_q1\u001b[0m\u001b[0;34m.\u001b[0m\u001b[0mshow\u001b[0m\u001b[0;34m(\u001b[0m\u001b[0;34m)\u001b[0m\u001b[0;34m\u001b[0m\u001b[0;34m\u001b[0m\u001b[0m\n\u001b[0m",
            "\u001b[0;31mNameError\u001b[0m: name 'df_q1' is not defined"
          ]
        }
      ]
    },
    {
      "cell_type": "code",
      "metadata": {
        "id": "otzU9JoK7sl4"
      },
      "source": [
        "df_q1.count()"
      ],
      "execution_count": null,
      "outputs": []
    },
    {
      "cell_type": "code",
      "metadata": {
        "id": "h2GM1nKS8fFR"
      },
      "source": [
        "#sol 2\n",
        "df_q2= Bombing_Operations.where(\"TargetCountry = 'LAOS' AND TimeOnTarget> 1000 \").select(\"AirCraft\", \"MissionDate\", \"TakeoffLocation\")\n"
      ],
      "execution_count": null,
      "outputs": []
    },
    {
      "cell_type": "code",
      "metadata": {
        "id": "hANRK64l9L94"
      },
      "source": [
        "df_q2.show()"
      ],
      "execution_count": null,
      "outputs": []
    },
    {
      "cell_type": "code",
      "metadata": {
        "id": "NOXYuozG-BPI"
      },
      "source": [
        "df_q2.count()"
      ],
      "execution_count": null,
      "outputs": []
    },
    {
      "cell_type": "markdown",
      "metadata": {
        "id": "GFwONiIa-LfM"
      },
      "source": [
        "##Aggeregates"
      ]
    },
    {
      "cell_type": "markdown",
      "metadata": {
        "id": "B_yqwKRQ-PE1"
      },
      "source": [
        "**Number of missios for each counrty operationg the missions (CountryFlyingMissions)**"
      ]
    },
    {
      "cell_type": "code",
      "metadata": {
        "id": "wlEaoiB__POR"
      },
      "source": [
        "Bombing_Operations.groupBy(\"ContryFlyingMission\").agg(count(\"*\")).show()"
      ],
      "execution_count": null,
      "outputs": []
    },
    {
      "cell_type": "code",
      "metadata": {
        "id": "UIO14Gz--4xd"
      },
      "source": [
        "df_q3=Bombing_Operations.groupBy(\"ContryFlyingMission\").agg(count(\"*\").alias(\"Number of missions\"))"
      ],
      "execution_count": null,
      "outputs": []
    },
    {
      "cell_type": "code",
      "metadata": {
        "id": "Ocrq3Y9A_HvH"
      },
      "source": [
        "df_q3.show()"
      ],
      "execution_count": null,
      "outputs": []
    },
    {
      "cell_type": "code",
      "metadata": {
        "id": "U8QM4XbN_sW-"
      },
      "source": [
        "df_q3.sort(\"Number of missions\").show()"
      ],
      "execution_count": null,
      "outputs": []
    },
    {
      "cell_type": "code",
      "metadata": {
        "id": "vDU7MB8y_0j2"
      },
      "source": [
        "df_q3.sort(desc(\"Number of missions\")).show()"
      ],
      "execution_count": null,
      "outputs": []
    },
    {
      "cell_type": "markdown",
      "metadata": {
        "id": "uMig1EGuPvAW"
      },
      "source": [
        "**Find the number of Operations for each Aircraft Type**"
      ]
    },
    {
      "cell_type": "code",
      "metadata": {
        "id": "Gx-whWJK_8F-"
      },
      "source": [
        "join_results= Bombing_Operations.join(Aircraft_Glossary, Bombing_Operations.AirCraft == Aircraft_Glossary.AirCraft)"
      ],
      "execution_count": null,
      "outputs": []
    },
    {
      "cell_type": "code",
      "metadata": {
        "id": "y37ieF5cRPDc"
      },
      "source": [
        "Bombing_Operations.show()"
      ],
      "execution_count": null,
      "outputs": []
    },
    {
      "cell_type": "code",
      "metadata": {
        "id": "G_9q9Tg5P-SS"
      },
      "source": [
        "missionsPerAircraftType=join_results.groupBy(\"AirCraftType\").agg(count(\"*\").alias(\"NumOperations\")).sort(\"AirCraftType\")\n",
        "%time missionsPerAircraftType.show()"
      ],
      "execution_count": null,
      "outputs": []
    },
    {
      "cell_type": "markdown",
      "metadata": {
        "id": "ZBIpfLuJSUAw"
      },
      "source": [
        "**Caching the result**"
      ]
    },
    {
      "cell_type": "code",
      "metadata": {
        "id": "7M3fFLfkRh43"
      },
      "source": [
        "missionsPerAircraftType.cache()"
      ],
      "execution_count": null,
      "outputs": []
    },
    {
      "cell_type": "code",
      "metadata": {
        "id": "5CCWzxBlSP1x"
      },
      "source": [
        "missionsPerAircraftType.show()"
      ],
      "execution_count": null,
      "outputs": []
    },
    {
      "cell_type": "markdown",
      "metadata": {
        "id": "dgVlm16tSsFx"
      },
      "source": [
        "Saving the result into a file"
      ]
    },
    {
      "cell_type": "code",
      "metadata": {
        "id": "QVf-E2TqSrUZ"
      },
      "source": [
        "%time missionsPerAircraftType.write.mode('overwrite').json(\"missionsPerAirCraftType.json\")"
      ],
      "execution_count": null,
      "outputs": []
    },
    {
      "cell_type": "code",
      "metadata": {
        "id": "VzN3YMsLSpIo"
      },
      "source": [
        "print(missionsPerAircraftType.count())"
      ],
      "execution_count": null,
      "outputs": []
    },
    {
      "cell_type": "markdown",
      "metadata": {
        "id": "47CkhRYVUEaq"
      },
      "source": [
        "##Creating RDDs from Differenrt Types of Data"
      ]
    },
    {
      "cell_type": "code",
      "metadata": {
        "id": "mo1Vz6wSTc0S"
      },
      "source": [
        "data = [(\"Alice\", 29, 14500), (\"BOB\", 22, 12000),(\"Charlie\", 35, 45000)]\n",
        "colums = [\"Name\", \"Age\", \"Salary\"]"
      ],
      "execution_count": null,
      "outputs": []
    },
    {
      "cell_type": "code",
      "metadata": {
        "id": "HAd4lYLkUtqz"
      },
      "source": [
        "rdd1 = sc.parallelize(data)"
      ],
      "execution_count": null,
      "outputs": []
    },
    {
      "cell_type": "code",
      "metadata": {
        "id": "x_nolM9wVIvo"
      },
      "source": [
        "print(rdd1.collect())"
      ],
      "execution_count": null,
      "outputs": []
    },
    {
      "cell_type": "markdown",
      "metadata": {
        "id": "gDsmUab5VceI"
      },
      "source": [
        "##RDD to DataFrame Conversion"
      ]
    },
    {
      "cell_type": "code",
      "metadata": {
        "id": "Mh9diMviVaGP"
      },
      "source": [
        "dfFromRDD1 = rdd1.toDF(colums)"
      ],
      "execution_count": null,
      "outputs": []
    },
    {
      "cell_type": "code",
      "metadata": {
        "colab": {
          "base_uri": "https://localhost:8080/"
        },
        "id": "LxvtMTfQVLFP",
        "outputId": "186d8bd3-b4bc-4d8d-ecb3-d1dbf556219f"
      },
      "source": [
        "dfFromRDD1.printSchema()\n",
        "dfFromRDD1.show()"
      ],
      "execution_count": null,
      "outputs": [
        {
          "output_type": "stream",
          "name": "stdout",
          "text": [
            "root\n",
            " |-- Name: string (nullable = true)\n",
            " |-- Age: long (nullable = true)\n",
            " |-- Salary: long (nullable = true)\n",
            "\n",
            "+-------+---+------+\n",
            "|   Name|Age|Salary|\n",
            "+-------+---+------+\n",
            "|  Alice| 29| 14500|\n",
            "|    BOB| 22| 12000|\n",
            "|Charlie| 35| 45000|\n",
            "+-------+---+------+\n",
            "\n"
          ]
        }
      ]
    },
    {
      "cell_type": "code",
      "metadata": {
        "colab": {
          "base_uri": "https://localhost:8080/"
        },
        "id": "N7DjNjrcVwQH",
        "outputId": "6d396e38-245b-4068-e8ef-9843e83f2d5d"
      },
      "source": [
        "lines = sc.textFile(\"people.txt\")\n",
        "print(type(lines))\n",
        "print(lines.collect())"
      ],
      "execution_count": null,
      "outputs": [
        {
          "output_type": "stream",
          "name": "stdout",
          "text": [
            "<class 'pyspark.rdd.RDD'>\n",
            "['Alice,45,4500', 'Bob,59,130000', 'Dooffy,45,50000']\n"
          ]
        }
      ]
    },
    {
      "cell_type": "code",
      "metadata": {
        "colab": {
          "base_uri": "https://localhost:8080/"
        },
        "id": "NWm9eOJJXJe_",
        "outputId": "ef74f88c-e098-46d5-f304-b5bd4208ada8"
      },
      "source": [
        "rows= lines.map(lambda value: value.split(\",\"))\n",
        "print(type(rows))\n",
        "print(rows.collect())"
      ],
      "execution_count": null,
      "outputs": [
        {
          "output_type": "stream",
          "name": "stdout",
          "text": [
            "<class 'pyspark.rdd.PipelinedRDD'>\n",
            "[['Alice', '45', '4500'], ['Bob', '59', '130000'], ['Dooffy', '45', '50000']]\n"
          ]
        }
      ]
    },
    {
      "cell_type": "code",
      "metadata": {
        "colab": {
          "base_uri": "https://localhost:8080/"
        },
        "id": "4wk3K04NXWzH",
        "outputId": "931eb4a0-44a9-41b2-9902-9ecdeca63f8a"
      },
      "source": [
        "peopleRDD = rows.map(lambda value: Row(name = value[0], age = value[1], salary = float(value[2])))\n",
        "print(type(peopleRDD))\n",
        "print(peopleRDD.collect())"
      ],
      "execution_count": null,
      "outputs": [
        {
          "output_type": "stream",
          "name": "stdout",
          "text": [
            "<class 'pyspark.rdd.PipelinedRDD'>\n",
            "[Row(name='Alice', age='45', salary=4500.0), Row(name='Bob', age='59', salary=130000.0), Row(name='Dooffy', age='45', salary=50000.0)]\n"
          ]
        }
      ]
    },
    {
      "cell_type": "code",
      "metadata": {
        "colab": {
          "base_uri": "https://localhost:8080/"
        },
        "id": "rQNOQ8PTZAB1",
        "outputId": "62d16c51-c89a-4c15-a877-0db96e872e63"
      },
      "source": [
        "dfFromPeople = peopleRDD.toDF()\n",
        "dfFromPeople.show()"
      ],
      "execution_count": null,
      "outputs": [
        {
          "output_type": "stream",
          "name": "stdout",
          "text": [
            "+------+---+--------+\n",
            "|  name|age|  salary|\n",
            "+------+---+--------+\n",
            "| Alice| 45|  4500.0|\n",
            "|   Bob| 59|130000.0|\n",
            "|Dooffy| 45| 50000.0|\n",
            "+------+---+--------+\n",
            "\n"
          ]
        }
      ]
    },
    {
      "cell_type": "markdown",
      "metadata": {
        "id": "UAi3VA1tZZiZ"
      },
      "source": [
        "##Dataframe from CSV file"
      ]
    },
    {
      "cell_type": "code",
      "metadata": {
        "id": "5bdsajQ9ZU4Y"
      },
      "source": [
        "dfFromCSV = spark.read.options(header = \"True\", inferSchema = \"True\" ).csv(\"people.csv\")"
      ],
      "execution_count": null,
      "outputs": []
    },
    {
      "cell_type": "code",
      "metadata": {
        "colab": {
          "base_uri": "https://localhost:8080/"
        },
        "id": "tZRo5YlGZ8Pc",
        "outputId": "688d2c18-7c31-42b8-a511-860ff982375c"
      },
      "source": [
        "dfFromCSV.show()"
      ],
      "execution_count": null,
      "outputs": [
        {
          "output_type": "stream",
          "name": "stdout",
          "text": [
            "+-------+----+\n",
            "|   Name| Age|\n",
            "+-------+----+\n",
            "|Michael|29.0|\n",
            "|   Andy|30.0|\n",
            "| Justin|19.0|\n",
            "+-------+----+\n",
            "\n"
          ]
        }
      ]
    },
    {
      "cell_type": "code",
      "metadata": {
        "id": "Ai6BQP-OZ96m"
      },
      "source": [
        "list1 = [i for i in range(11)]\n",
        "print(list1)"
      ],
      "execution_count": null,
      "outputs": []
    },
    {
      "cell_type": "code",
      "metadata": {
        "colab": {
          "base_uri": "https://localhost:8080/"
        },
        "id": "bmJ2sxQoaTeZ",
        "outputId": "d22f89dc-e7cd-4607-cf9c-a0be5139dee5"
      },
      "source": [
        "list1RDD = sc.parallelize(list1)\n",
        "print(list1RDD.collect())"
      ],
      "execution_count": null,
      "outputs": [
        {
          "output_type": "stream",
          "name": "stdout",
          "text": [
            "[0, 1, 2, 3, 4, 5, 6, 7, 8, 9, 10]\n"
          ]
        }
      ]
    },
    {
      "cell_type": "code",
      "metadata": {
        "colab": {
          "base_uri": "https://localhost:8080/"
        },
        "id": "cf0Gj3RfakOp",
        "outputId": "9a8b648f-85f2-4f06-b6c1-e61b3255c488"
      },
      "source": [
        "intermediate1 = list1RDD.map(lambda value: (value))\n",
        "print(intermediate1.collect())"
      ],
      "execution_count": null,
      "outputs": [
        {
          "output_type": "stream",
          "name": "stdout",
          "text": [
            "[0, 1, 2, 3, 4, 5, 6, 7, 8, 9, 10]\n"
          ]
        }
      ]
    },
    {
      "cell_type": "code",
      "metadata": {
        "colab": {
          "base_uri": "https://localhost:8080/"
        },
        "id": "fl5xYPqFbA2-",
        "outputId": "e7bafc1a-4a59-40e6-c1db-56a769b24320"
      },
      "source": [
        "# from operator import add\n",
        "final = intermediate1.reduce(lambda x,y: (x+y))\n",
        "print(final)"
      ],
      "execution_count": null,
      "outputs": [
        {
          "output_type": "stream",
          "name": "stdout",
          "text": [
            "55\n"
          ]
        }
      ]
    },
    {
      "cell_type": "code",
      "metadata": {
        "colab": {
          "base_uri": "https://localhost:8080/"
        },
        "id": "4isKqKIKbp09",
        "outputId": "1c0d693f-e4f8-43ed-bed6-5c547045c5b9"
      },
      "source": [
        "from operator import add\n",
        "final1 = intermediate1.reduce(add)\n",
        "print(final1)\n",
        "\n",
        "##it has to be a single indivisual value not a tupel (x,y)"
      ],
      "execution_count": null,
      "outputs": [
        {
          "output_type": "stream",
          "name": "stdout",
          "text": [
            "55\n"
          ]
        }
      ]
    },
    {
      "cell_type": "markdown",
      "metadata": {
        "id": "RnrH9ebvfYDW"
      },
      "source": [
        "##Word Count Problem using Spark"
      ]
    },
    {
      "cell_type": "code",
      "metadata": {
        "id": "knwmv9njdFD1"
      },
      "source": [
        "list2 = ['Apple', 'Apple', 'Cat', 'Dog', 'Bat','Apple']\n",
        "rdd_list2 = sc.parallelize(list2)"
      ],
      "execution_count": null,
      "outputs": []
    },
    {
      "cell_type": "code",
      "metadata": {
        "colab": {
          "base_uri": "https://localhost:8080/"
        },
        "id": "tzAsSvGHdRZT",
        "outputId": "843894dc-8707-44ff-dc56-8826c1c9fbac"
      },
      "source": [
        "rdd_map_list2 = rdd_list2.map(lambda w: (w, 1))\n",
        "print(rdd_map_list2.collect())"
      ],
      "execution_count": null,
      "outputs": [
        {
          "output_type": "stream",
          "name": "stdout",
          "text": [
            "[('Apple', 1), ('Apple', 1), ('Cat', 1), ('Dog', 1), ('Bat', 1), ('Apple', 1)]\n"
          ]
        }
      ]
    },
    {
      "cell_type": "code",
      "metadata": {
        "colab": {
          "base_uri": "https://localhost:8080/"
        },
        "id": "HepoPPHie_8U",
        "outputId": "d06076fd-64d3-4441-f51c-d72211fab736"
      },
      "source": [
        "rdd_reduce_list2 = rdd_map_list2.reduceByKey(lambda x,y : x+y)\n",
        "print(rdd_reduce_list2.collect()) "
      ],
      "execution_count": null,
      "outputs": [
        {
          "output_type": "stream",
          "name": "stdout",
          "text": [
            "[('Bat', 1), ('Apple', 3), ('Cat', 1), ('Dog', 1)]\n"
          ]
        }
      ]
    },
    {
      "cell_type": "code",
      "metadata": {
        "colab": {
          "base_uri": "https://localhost:8080/"
        },
        "id": "Atsp3Bs1fUMj",
        "outputId": "5633809e-351f-4dca-b11d-e3baf3f272c8"
      },
      "source": [
        "rdd_reduce_list2 = rdd_map_list2.reduceByKey(lambda x,y : x+y).sortBy(lambda r: r[0])\n",
        "print(rdd_reduce_list2.collect()) "
      ],
      "execution_count": null,
      "outputs": [
        {
          "output_type": "stream",
          "name": "stdout",
          "text": [
            "[('Apple', 3), ('Bat', 1), ('Cat', 1), ('Dog', 1)]\n"
          ]
        }
      ]
    },
    {
      "cell_type": "markdown",
      "metadata": {
        "id": "JIaeRbdDguIP"
      },
      "source": [
        "##WordCount from the txt file"
      ]
    },
    {
      "cell_type": "code",
      "metadata": {
        "colab": {
          "base_uri": "https://localhost:8080/"
        },
        "id": "sd1S5n8ygsir",
        "outputId": "cdbe00be-10c8-4ace-a807-0e75293c2fe3"
      },
      "source": [
        "words = sc.textFile(\"WordCount.txt\")\n",
        "print(type(words))\n",
        "print(words.collect())"
      ],
      "execution_count": null,
      "outputs": [
        {
          "output_type": "stream",
          "name": "stdout",
          "text": [
            "<class 'pyspark.rdd.RDD'>\n",
            "['From fairest creatures we desire increase,', \"That thereby beauty's rose might never die,\", 'But as the riper should by time decease,', 'His tender heir might bear his memory:', 'But thou contracted to thine own bright eyes,', \"Feed'st thy light's flame with self-substantial fuel,\", 'Making a famine where abundance lies,', 'Thy self thy foe, to thy sweet self too cruel:', \"Thou that art now the world's fresh ornament,\", 'And only herald to the gaudy spring,', 'Within thine own bud buriest thy content,', \"And tender churl mak'st waste in niggarding:\", 'Pity the world, or else this glutton be,', \"To eat the world's due, by the grave and thee.\"]\n"
          ]
        }
      ]
    },
    {
      "cell_type": "code",
      "metadata": {
        "colab": {
          "base_uri": "https://localhost:8080/"
        },
        "id": "gjH40-d_hMA7",
        "outputId": "7e4da045-8ed4-4aff-c348-f94de3a727df"
      },
      "source": [
        "row= words.map(lambda value: value.split(\" \"))\n",
        "print(type(row))\n",
        "print(row.collect())"
      ],
      "execution_count": null,
      "outputs": [
        {
          "output_type": "stream",
          "name": "stdout",
          "text": [
            "<class 'pyspark.rdd.PipelinedRDD'>\n",
            "[['From', 'fairest', 'creatures', 'we', 'desire', 'increase,'], ['That', 'thereby', \"beauty's\", 'rose', 'might', 'never', 'die,'], ['But', 'as', 'the', 'riper', 'should', 'by', 'time', 'decease,'], ['His', 'tender', 'heir', 'might', 'bear', 'his', 'memory:'], ['But', 'thou', 'contracted', 'to', 'thine', 'own', 'bright', 'eyes,'], [\"Feed'st\", 'thy', \"light's\", 'flame', 'with', 'self-substantial', 'fuel,'], ['Making', 'a', 'famine', 'where', 'abundance', 'lies,'], ['Thy', 'self', 'thy', 'foe,', 'to', 'thy', 'sweet', 'self', 'too', 'cruel:'], ['Thou', 'that', 'art', 'now', 'the', \"world's\", 'fresh', 'ornament,'], ['And', 'only', 'herald', 'to', 'the', 'gaudy', 'spring,'], ['Within', 'thine', 'own', 'bud', 'buriest', 'thy', 'content,'], ['And', 'tender', 'churl', \"mak'st\", 'waste', 'in', 'niggarding:'], ['Pity', 'the', 'world,', 'or', 'else', 'this', 'glutton', 'be,'], ['To', 'eat', 'the', \"world's\", 'due,', 'by', 'the', 'grave', 'and', 'thee.']]\n"
          ]
        }
      ]
    },
    {
      "cell_type": "code",
      "metadata": {
        "colab": {
          "base_uri": "https://localhost:8080/",
          "height": 321
        },
        "id": "L-hjQGH4hncJ",
        "outputId": "3f42a3de-74fa-44ea-c1e9-698e29e7ae5f"
      },
      "source": [
        "rdd_word = sc.parallelize(row)\n",
        "rdd_map_word = rdd_word.map(lambda w: (w, 1))\n",
        "print(rdd_map_word.collect())"
      ],
      "execution_count": null,
      "outputs": [
        {
          "output_type": "error",
          "ename": "TypeError",
          "evalue": "ignored",
          "traceback": [
            "\u001b[0;31m---------------------------------------------------------------------------\u001b[0m",
            "\u001b[0;31mTypeError\u001b[0m                                 Traceback (most recent call last)",
            "\u001b[0;32m<ipython-input-95-3a5bbc2c2ea7>\u001b[0m in \u001b[0;36m<module>\u001b[0;34m()\u001b[0m\n\u001b[0;32m----> 1\u001b[0;31m \u001b[0mrdd_word\u001b[0m \u001b[0;34m=\u001b[0m \u001b[0msc\u001b[0m\u001b[0;34m.\u001b[0m\u001b[0mparallelize\u001b[0m\u001b[0;34m(\u001b[0m\u001b[0mrow\u001b[0m\u001b[0;34m)\u001b[0m\u001b[0;34m\u001b[0m\u001b[0;34m\u001b[0m\u001b[0m\n\u001b[0m\u001b[1;32m      2\u001b[0m \u001b[0mrdd_map_word\u001b[0m \u001b[0;34m=\u001b[0m \u001b[0mrdd_word\u001b[0m\u001b[0;34m.\u001b[0m\u001b[0mmap\u001b[0m\u001b[0;34m(\u001b[0m\u001b[0;32mlambda\u001b[0m \u001b[0mw\u001b[0m\u001b[0;34m:\u001b[0m \u001b[0;34m(\u001b[0m\u001b[0mw\u001b[0m\u001b[0;34m,\u001b[0m \u001b[0;36m1\u001b[0m\u001b[0;34m)\u001b[0m\u001b[0;34m)\u001b[0m\u001b[0;34m\u001b[0m\u001b[0;34m\u001b[0m\u001b[0m\n\u001b[1;32m      3\u001b[0m \u001b[0mprint\u001b[0m\u001b[0;34m(\u001b[0m\u001b[0mrdd_map_word\u001b[0m\u001b[0;34m.\u001b[0m\u001b[0mcollect\u001b[0m\u001b[0;34m(\u001b[0m\u001b[0;34m)\u001b[0m\u001b[0;34m)\u001b[0m\u001b[0;34m\u001b[0m\u001b[0;34m\u001b[0m\u001b[0m\n",
            "\u001b[0;32m/usr/local/lib/python3.7/dist-packages/pyspark/context.py\u001b[0m in \u001b[0;36mparallelize\u001b[0;34m(self, c, numSlices)\u001b[0m\n\u001b[1;32m    562\u001b[0m         \u001b[0;31m# Make sure we distribute data evenly if it's smaller than self.batchSize\u001b[0m\u001b[0;34m\u001b[0m\u001b[0;34m\u001b[0m\u001b[0;34m\u001b[0m\u001b[0m\n\u001b[1;32m    563\u001b[0m         \u001b[0;32mif\u001b[0m \u001b[0;34m\"__len__\"\u001b[0m \u001b[0;32mnot\u001b[0m \u001b[0;32min\u001b[0m \u001b[0mdir\u001b[0m\u001b[0;34m(\u001b[0m\u001b[0mc\u001b[0m\u001b[0;34m)\u001b[0m\u001b[0;34m:\u001b[0m\u001b[0;34m\u001b[0m\u001b[0;34m\u001b[0m\u001b[0m\n\u001b[0;32m--> 564\u001b[0;31m             \u001b[0mc\u001b[0m \u001b[0;34m=\u001b[0m \u001b[0mlist\u001b[0m\u001b[0;34m(\u001b[0m\u001b[0mc\u001b[0m\u001b[0;34m)\u001b[0m    \u001b[0;31m# Make it a list so we can compute its length\u001b[0m\u001b[0;34m\u001b[0m\u001b[0;34m\u001b[0m\u001b[0m\n\u001b[0m\u001b[1;32m    565\u001b[0m         \u001b[0mbatchSize\u001b[0m \u001b[0;34m=\u001b[0m \u001b[0mmax\u001b[0m\u001b[0;34m(\u001b[0m\u001b[0;36m1\u001b[0m\u001b[0;34m,\u001b[0m \u001b[0mmin\u001b[0m\u001b[0;34m(\u001b[0m\u001b[0mlen\u001b[0m\u001b[0;34m(\u001b[0m\u001b[0mc\u001b[0m\u001b[0;34m)\u001b[0m \u001b[0;34m//\u001b[0m \u001b[0mnumSlices\u001b[0m\u001b[0;34m,\u001b[0m \u001b[0mself\u001b[0m\u001b[0;34m.\u001b[0m\u001b[0m_batchSize\u001b[0m \u001b[0;32mor\u001b[0m \u001b[0;36m1024\u001b[0m\u001b[0;34m)\u001b[0m\u001b[0;34m)\u001b[0m\u001b[0;34m\u001b[0m\u001b[0;34m\u001b[0m\u001b[0m\n\u001b[1;32m    566\u001b[0m         \u001b[0mserializer\u001b[0m \u001b[0;34m=\u001b[0m \u001b[0mBatchedSerializer\u001b[0m\u001b[0;34m(\u001b[0m\u001b[0mself\u001b[0m\u001b[0;34m.\u001b[0m\u001b[0m_unbatched_serializer\u001b[0m\u001b[0;34m,\u001b[0m \u001b[0mbatchSize\u001b[0m\u001b[0;34m)\u001b[0m\u001b[0;34m\u001b[0m\u001b[0;34m\u001b[0m\u001b[0m\n",
            "\u001b[0;31mTypeError\u001b[0m: 'PipelinedRDD' object is not iterable"
          ]
        }
      ]
    },
    {
      "cell_type": "markdown",
      "metadata": {
        "id": "mXwr9x9als84"
      },
      "source": [
        "**Using Flat Map**"
      ]
    },
    {
      "cell_type": "markdown",
      "source": [
        "## Spark and ML"
      ],
      "metadata": {
        "id": "glj6AsEGe8Iy"
      }
    },
    {
      "cell_type": "code",
      "source": [
        "import pandas as pd\n"
      ],
      "metadata": {
        "id": "P1hextRpe7wW"
      },
      "execution_count": null,
      "outputs": []
    },
    {
      "cell_type": "code",
      "source": [
        "data = pd.read_excel(\"transactions.xlsx\")"
      ],
      "metadata": {
        "id": "cHANLFeKfjtM"
      },
      "execution_count": null,
      "outputs": []
    },
    {
      "cell_type": "code",
      "source": [
        "data.head()"
      ],
      "metadata": {
        "colab": {
          "base_uri": "https://localhost:8080/",
          "height": 206
        },
        "id": "luJRLZ6_f40H",
        "outputId": "cdc65338-3907-4fd8-bfb1-2303f00866e5"
      },
      "execution_count": null,
      "outputs": [
        {
          "output_type": "execute_result",
          "data": {
            "text/html": [
              "<div>\n",
              "<style scoped>\n",
              "    .dataframe tbody tr th:only-of-type {\n",
              "        vertical-align: middle;\n",
              "    }\n",
              "\n",
              "    .dataframe tbody tr th {\n",
              "        vertical-align: top;\n",
              "    }\n",
              "\n",
              "    .dataframe thead th {\n",
              "        text-align: right;\n",
              "    }\n",
              "</style>\n",
              "<table border=\"1\" class=\"dataframe\">\n",
              "  <thead>\n",
              "    <tr style=\"text-align: right;\">\n",
              "      <th></th>\n",
              "      <th>SalesDate</th>\n",
              "      <th>SalesValue</th>\n",
              "      <th>SalesAmount</th>\n",
              "      <th>Customer</th>\n",
              "      <th>SalesTransactionID</th>\n",
              "      <th>SalesItem</th>\n",
              "    </tr>\n",
              "  </thead>\n",
              "  <tbody>\n",
              "    <tr>\n",
              "      <th>0</th>\n",
              "      <td>2018-09-28</td>\n",
              "      <td>8280.0</td>\n",
              "      <td>10</td>\n",
              "      <td>0</td>\n",
              "      <td>0</td>\n",
              "      <td>0</td>\n",
              "    </tr>\n",
              "    <tr>\n",
              "      <th>1</th>\n",
              "      <td>2018-09-28</td>\n",
              "      <td>7452.0</td>\n",
              "      <td>10</td>\n",
              "      <td>0</td>\n",
              "      <td>0</td>\n",
              "      <td>0</td>\n",
              "    </tr>\n",
              "    <tr>\n",
              "      <th>2</th>\n",
              "      <td>2019-04-23</td>\n",
              "      <td>21114.0</td>\n",
              "      <td>30</td>\n",
              "      <td>0</td>\n",
              "      <td>1</td>\n",
              "      <td>0</td>\n",
              "    </tr>\n",
              "    <tr>\n",
              "      <th>3</th>\n",
              "      <td>2019-04-23</td>\n",
              "      <td>7038.0</td>\n",
              "      <td>10</td>\n",
              "      <td>0</td>\n",
              "      <td>1</td>\n",
              "      <td>1</td>\n",
              "    </tr>\n",
              "    <tr>\n",
              "      <th>4</th>\n",
              "      <td>2019-04-23</td>\n",
              "      <td>7000.0</td>\n",
              "      <td>2</td>\n",
              "      <td>0</td>\n",
              "      <td>1</td>\n",
              "      <td>2</td>\n",
              "    </tr>\n",
              "  </tbody>\n",
              "</table>\n",
              "</div>"
            ],
            "text/plain": [
              "   SalesDate  SalesValue  SalesAmount  Customer  SalesTransactionID  SalesItem\n",
              "0 2018-09-28      8280.0           10         0                   0          0\n",
              "1 2018-09-28      7452.0           10         0                   0          0\n",
              "2 2019-04-23     21114.0           30         0                   1          0\n",
              "3 2019-04-23      7038.0           10         0                   1          1\n",
              "4 2019-04-23      7000.0            2         0                   1          2"
            ]
          },
          "metadata": {},
          "execution_count": 28
        }
      ]
    },
    {
      "cell_type": "code",
      "source": [
        "sparkdata = spark.createDataFrame(data)"
      ],
      "metadata": {
        "id": "-U4O8HpRgCnh"
      },
      "execution_count": null,
      "outputs": []
    },
    {
      "cell_type": "code",
      "source": [
        "sparkdata.show()"
      ],
      "metadata": {
        "colab": {
          "base_uri": "https://localhost:8080/"
        },
        "id": "WqgBQZ3_gHZL",
        "outputId": "1c3ef4b8-676c-4d6d-c7ff-5a5489f9bf8b"
      },
      "execution_count": null,
      "outputs": [
        {
          "output_type": "stream",
          "name": "stdout",
          "text": [
            "+-------------------+----------+-----------+--------+------------------+---------+\n",
            "|          SalesDate|SalesValue|SalesAmount|Customer|SalesTransactionID|SalesItem|\n",
            "+-------------------+----------+-----------+--------+------------------+---------+\n",
            "|2018-09-28 00:00:00|    8280.0|         10|       0|                 0|        0|\n",
            "|2018-09-28 00:00:00|    7452.0|         10|       0|                 0|        0|\n",
            "|2019-04-23 00:00:00|   21114.0|         30|       0|                 1|        0|\n",
            "|2019-04-23 00:00:00|    7038.0|         10|       0|                 1|        1|\n",
            "|2019-04-23 00:00:00|    7000.0|          2|       0|                 1|        2|\n",
            "|2019-02-08 00:00:00|     745.2|          1|       0|                 2|        1|\n",
            "|2019-02-08 00:00:00|    6334.2|          9|       0|                 2|        1|\n",
            "|2019-02-22 00:00:00|   14076.0|         20|       0|                 3|        0|\n",
            "|2018-12-11 00:00:00|    7452.0|         10|       0|                 4|        0|\n",
            "|2018-11-21 00:00:00|    6706.8|          9|       0|                 5|        0|\n",
            "|2018-09-21 00:00:00|    7000.0|          2|       0|                 6|        2|\n",
            "|2018-08-09 00:00:00|    3500.0|          1|       0|                 7|        2|\n",
            "|2019-03-08 00:00:00|   14076.0|         20|       0|                 8|        0|\n",
            "|2019-10-25 00:00:00|   13972.5|         25|       0|                10|        0|\n",
            "|2019-10-25 00:00:00|    2794.5|          5|       0|                10|        1|\n",
            "|2019-06-12 00:00:00|   11178.0|         20|       0|                11|        0|\n",
            "|2018-07-20 00:00:00|   10000.0|          1|       1|                12|        3|\n",
            "|2018-07-20 00:00:00|     500.0|          1|       1|                12|        4|\n",
            "|2019-05-14 00:00:00|    6000.0|          2|       1|                13|        5|\n",
            "|2017-07-11 00:00:00|    191.34|          1|       3|                15|        7|\n",
            "+-------------------+----------+-----------+--------+------------------+---------+\n",
            "only showing top 20 rows\n",
            "\n"
          ]
        }
      ]
    },
    {
      "cell_type": "markdown",
      "source": [
        "##droping the duplicates"
      ],
      "metadata": {
        "id": "1QfpkWzGhGMS"
      }
    },
    {
      "cell_type": "code",
      "source": [
        "basketdata = sparkdata.dropDuplicates(['SalesTransactionID', 'SalesItem']).sort('SalesTransactionID')"
      ],
      "metadata": {
        "id": "Lvpd39kKgT-q"
      },
      "execution_count": null,
      "outputs": []
    },
    {
      "cell_type": "code",
      "source": [
        "basketdata.show()"
      ],
      "metadata": {
        "colab": {
          "base_uri": "https://localhost:8080/"
        },
        "id": "Y8OjjJyeg6rW",
        "outputId": "84bce57b-3a28-41b5-92cc-fe21ca830020"
      },
      "execution_count": null,
      "outputs": [
        {
          "output_type": "stream",
          "name": "stdout",
          "text": [
            "+-------------------+----------+-----------+--------+------------------+---------+\n",
            "|          SalesDate|SalesValue|SalesAmount|Customer|SalesTransactionID|SalesItem|\n",
            "+-------------------+----------+-----------+--------+------------------+---------+\n",
            "|2018-09-28 00:00:00|    8280.0|         10|       0|                 0|        0|\n",
            "|2019-04-23 00:00:00|   21114.0|         30|       0|                 1|        0|\n",
            "|2019-04-23 00:00:00|    7038.0|         10|       0|                 1|        1|\n",
            "|2019-04-23 00:00:00|    7000.0|          2|       0|                 1|        2|\n",
            "|2019-02-08 00:00:00|     745.2|          1|       0|                 2|        1|\n",
            "|2019-02-22 00:00:00|   14076.0|         20|       0|                 3|        0|\n",
            "|2018-12-11 00:00:00|    7452.0|         10|       0|                 4|        0|\n",
            "|2018-11-21 00:00:00|    6706.8|          9|       0|                 5|        0|\n",
            "|2018-09-21 00:00:00|    7000.0|          2|       0|                 6|        2|\n",
            "|2018-08-09 00:00:00|    3500.0|          1|       0|                 7|        2|\n",
            "|2019-03-08 00:00:00|   14076.0|         20|       0|                 8|        0|\n",
            "|2019-10-25 00:00:00|   13972.5|         25|       0|                10|        0|\n",
            "|2019-10-25 00:00:00|    2794.5|          5|       0|                10|        1|\n",
            "|2019-06-12 00:00:00|   11178.0|         20|       0|                11|        0|\n",
            "|2018-07-20 00:00:00|     500.0|          1|       1|                12|        4|\n",
            "|2018-07-20 00:00:00|   10000.0|          1|       1|                12|        3|\n",
            "|2019-05-14 00:00:00|    6000.0|          2|       1|                13|        5|\n",
            "|2017-07-11 00:00:00|    103.79|          1|       3|                15|        9|\n",
            "|2017-07-11 00:00:00|     731.0|          1|       3|                15|        8|\n",
            "|2017-07-11 00:00:00|    191.34|          1|       3|                15|        7|\n",
            "+-------------------+----------+-----------+--------+------------------+---------+\n",
            "only showing top 20 rows\n",
            "\n"
          ]
        }
      ]
    },
    {
      "cell_type": "code",
      "source": [
        "from pyspark.sql import functions as F "
      ],
      "metadata": {
        "id": "YgbCrFbig6mB"
      },
      "execution_count": null,
      "outputs": []
    },
    {
      "cell_type": "code",
      "source": [
        "basketdata = basketdata.groupBy(\"SalesTransactionID\").agg(F.collect_list(\"SalesItem\").alias(\"items\")).sort(\"SalesTransactionID\")"
      ],
      "metadata": {
        "id": "XPH8_6Bmg6aN"
      },
      "execution_count": null,
      "outputs": []
    },
    {
      "cell_type": "code",
      "source": [
        "basketdata.show()"
      ],
      "metadata": {
        "colab": {
          "base_uri": "https://localhost:8080/"
        },
        "id": "vKtSQDugiIvY",
        "outputId": "166a30a8-8b88-4207-d270-377eb64db316"
      },
      "execution_count": null,
      "outputs": [
        {
          "output_type": "stream",
          "name": "stdout",
          "text": [
            "+------------------+--------------------+\n",
            "|SalesTransactionID|               items|\n",
            "+------------------+--------------------+\n",
            "|                 0|                 [0]|\n",
            "|                 1|           [0, 1, 2]|\n",
            "|                 2|                 [1]|\n",
            "|                 3|                 [0]|\n",
            "|                 4|                 [0]|\n",
            "|                 5|                 [0]|\n",
            "|                 6|                 [2]|\n",
            "|                 7|                 [2]|\n",
            "|                 8|                 [0]|\n",
            "|                10|              [1, 0]|\n",
            "|                11|                 [0]|\n",
            "|                12|              [4, 3]|\n",
            "|                13|                 [5]|\n",
            "|                15|           [7, 8, 9]|\n",
            "|                16|[17, 15, 16, 20, ...|\n",
            "|                17|                [21]|\n",
            "|                18|                [22]|\n",
            "|                19|[33, 41, 27, 34, ...|\n",
            "|                20|[59, 50, 57, 60, ...|\n",
            "|                21|                [62]|\n",
            "+------------------+--------------------+\n",
            "only showing top 20 rows\n",
            "\n"
          ]
        }
      ]
    },
    {
      "cell_type": "markdown",
      "source": [
        "##Finding Frequent Itemsets"
      ],
      "metadata": {
        "id": "q2ydg0F8jCWd"
      }
    },
    {
      "cell_type": "markdown",
      "source": [
        "**FP Growth Approch**"
      ],
      "metadata": {
        "id": "RoHZpEuRjLHJ"
      }
    },
    {
      "cell_type": "code",
      "source": [
        "from pyspark.ml.fpm import FPGrowth"
      ],
      "metadata": {
        "id": "64Eu-TIWjI0L"
      },
      "execution_count": null,
      "outputs": []
    },
    {
      "cell_type": "code",
      "source": [
        "fpGrowth = FPGrowth(itemsCol=\"items\", minSupport=0.01, minConfidence=0.01)\n",
        "model = fpGrowth.fit(basketdata)"
      ],
      "metadata": {
        "id": "EhH5HCGgiKKy"
      },
      "execution_count": null,
      "outputs": []
    },
    {
      "cell_type": "code",
      "source": [
        "model.freqItemsets.show()"
      ],
      "metadata": {
        "colab": {
          "base_uri": "https://localhost:8080/"
        },
        "id": "aTB2EVKnixab",
        "outputId": "fce911f7-ef00-46fb-bddd-62dd8872763e"
      },
      "execution_count": null,
      "outputs": [
        {
          "output_type": "stream",
          "name": "stderr",
          "text": [
            "/usr/local/lib/python3.7/dist-packages/pyspark/sql/context.py:127: FutureWarning: Deprecated in 3.0.0. Use SparkSession.builder.getOrCreate() instead.\n",
            "  FutureWarning\n"
          ]
        },
        {
          "output_type": "stream",
          "name": "stdout",
          "text": [
            "+----------+----+\n",
            "|     items|freq|\n",
            "+----------+----+\n",
            "|     [315]| 553|\n",
            "|     [137]| 730|\n",
            "|     [363]| 512|\n",
            "|     [159]| 671|\n",
            "|     [131]| 599|\n",
            "|     [135]| 690|\n",
            "|     [302]| 622|\n",
            "|     [152]| 761|\n",
            "|     [146]| 524|\n",
            "|     [128]| 929|\n",
            "|     [226]| 842|\n",
            "|     [312]|1063|\n",
            "|[312, 108]| 610|\n",
            "|[312, 103]| 572|\n",
            "|      [72]| 567|\n",
            "|     [102]| 874|\n",
            "|     [222]| 585|\n",
            "|      [68]| 968|\n",
            "|     [108]|1655|\n",
            "|[108, 110]| 510|\n",
            "+----------+----+\n",
            "only showing top 20 rows\n",
            "\n"
          ]
        }
      ]
    },
    {
      "cell_type": "markdown",
      "source": [
        "**Association Rules**"
      ],
      "metadata": {
        "id": "AlCu33xWlPkr"
      }
    },
    {
      "cell_type": "code",
      "source": [
        "model.associationRules.show()"
      ],
      "metadata": {
        "colab": {
          "base_uri": "https://localhost:8080/"
        },
        "id": "IoTy6ADNixX2",
        "outputId": "3187acfc-efb4-4550-ce64-57eacf49ced2"
      },
      "execution_count": null,
      "outputs": [
        {
          "output_type": "stream",
          "name": "stderr",
          "text": [
            "/usr/local/lib/python3.7/dist-packages/pyspark/sql/context.py:127: FutureWarning: Deprecated in 3.0.0. Use SparkSession.builder.getOrCreate() instead.\n",
            "  FutureWarning\n"
          ]
        },
        {
          "output_type": "stream",
          "name": "stdout",
          "text": [
            "+----------+----------+-------------------+------------------+--------------------+\n",
            "|antecedent|consequent|         confidence|              lift|             support|\n",
            "+----------+----------+-------------------+------------------+--------------------+\n",
            "|      [64]|      [63]| 0.6592082616179001|24.110890692680083| 0.01581794903564201|\n",
            "|      [64]|      [20]| 0.4208261617900172| 7.183266729236296|0.010097881303432041|\n",
            "|      [64]|     [316]|0.43459552495697074|21.109050041691336|0.010428282327675216|\n",
            "| [67, 103]|     [104]| 0.6595208070617906|13.213882748355099|0.010799983479948788|\n",
            "|[108, 104]|     [103]|  0.740029542097489|16.880202828833255|0.010345682071614423|\n",
            "| [92, 103]|      [91]| 0.7162162162162162|22.318845872899928|0.010944533928055177|\n",
            "| [92, 104]|      [91]| 0.7405159332321699|23.076077595045728|0.010077231239416843|\n",
            "| [104, 20]|      [67]| 0.5626911314984709|13.796901637440483|0.011398835336389542|\n",
            "| [104, 20]|     [103]|  0.583078491335372|13.300122007257055|0.011811836616693511|\n",
            "|     [185]|     [101]| 0.4446444644464446|15.797764369246902|0.010201131623508032|\n",
            "|      [98]|     [312]| 0.7427027027027027| 33.83454476112989|0.014186593978441334|\n",
            "|      [98]|     [108]| 0.5794594594594594|16.955228872376907|0.011068434312146368|\n",
            "|      [98]|     [103]| 0.5286486486486487| 12.05856780944864|0.010097881303432041|\n",
            "|     [316]|      [63]| 0.5536609829488466|20.250443172417555|0.011398835336389542|\n",
            "|     [316]|      [64]|  0.506519558676028|21.109050041691336|0.010428282327675216|\n",
            "|     [229]|     [203]| 0.3092485549132948|12.305398948423347| 0.01104778424813117|\n",
            "|     [229]|     [122]| 0.3959537572254335|13.934924889097996|0.014145293850410936|\n",
            "|     [229]|      [67]| 0.4121387283236994|10.105432940659982|0.014723495642836492|\n",
            "|     [229]|     [104]| 0.3439306358381503| 6.890850215597132|0.012286788089043077|\n",
            "|     [229]|     [103]| 0.3069364161849711| 7.001273146572497|0.010965183992070375|\n",
            "+----------+----------+-------------------+------------------+--------------------+\n",
            "only showing top 20 rows\n",
            "\n"
          ]
        }
      ]
    },
    {
      "cell_type": "markdown",
      "source": [
        "Lift = P(A Intersection B)/p(A) * P(B)\n",
        "Lift > 1 means A and B togerther appear more than expected "
      ],
      "metadata": {
        "id": "NRiCWpJHlqvs"
      }
    },
    {
      "cell_type": "code",
      "source": [
        "rules = model.associationRules\n",
        "frequentItemsets = model.freqItemsets"
      ],
      "metadata": {
        "colab": {
          "base_uri": "https://localhost:8080/"
        },
        "id": "AQn-_6bRixVM",
        "outputId": "9eea863d-27c0-475a-9c63-5a6a3b2c6f75"
      },
      "execution_count": null,
      "outputs": [
        {
          "output_type": "stream",
          "name": "stderr",
          "text": [
            "/usr/local/lib/python3.7/dist-packages/pyspark/sql/context.py:127: FutureWarning: Deprecated in 3.0.0. Use SparkSession.builder.getOrCreate() instead.\n",
            "  FutureWarning\n"
          ]
        }
      ]
    },
    {
      "cell_type": "code",
      "source": [
        "rules.filter(rules.lift <10).show()"
      ],
      "metadata": {
        "colab": {
          "base_uri": "https://localhost:8080/"
        },
        "id": "1RMWyJIyixSs",
        "outputId": "49890c78-e6d7-400f-8729-5174da8796df"
      },
      "execution_count": null,
      "outputs": [
        {
          "output_type": "stream",
          "name": "stdout",
          "text": [
            "+----------+----------+-------------------+-----------------+--------------------+\n",
            "|antecedent|consequent|         confidence|             lift|             support|\n",
            "+----------+----------+-------------------+-----------------+--------------------+\n",
            "|      [64]|      [20]| 0.4208261617900172|7.183266729236296|0.010097881303432041|\n",
            "|     [229]|     [104]| 0.3439306358381503|6.890850215597132|0.012286788089043077|\n",
            "|     [229]|     [103]| 0.3069364161849711|7.001273146572497|0.010965183992070375|\n",
            "|     [229]|      [20]| 0.2976878612716763|5.081364952394147|0.010634782967827201|\n",
            "|     [109]|     [104]| 0.4348958333333333|8.713390825403392|0.010345682071614423|\n",
            "|     [108]|     [110]| 0.3081570996978852|6.870541302932683|0.010531532647751208|\n",
            "|     [108]|      [67]|0.35891238670694864|8.800349994263643|0.012266138025027878|\n",
            "|     [108]|     [104]|0.40906344410876133| 8.19582389094368|0.013980093338289349|\n",
            "|     [108]|      [20]| 0.3595166163141994|6.136747148971244|0.012286788089043077|\n",
            "|     [104]|     [108]| 0.2800992966487381| 8.19582389094368|0.013980093338289349|\n",
            "|     [104]|     [109]|0.20728175424079437|8.713390825403392|0.010345682071614423|\n",
            "|     [104]|     [110]|0.30823334712453454|6.872241283541763|0.015384297691322843|\n",
            "|     [104]|      [83]|0.21928009929664874|5.376637006855448|0.010944533928055177|\n",
            "|     [104]|      [91]| 0.2606537029375259|8.122532959107225|0.013009540329575022|\n",
            "|     [104]|     [122]|0.24369052544476624|8.576277169468204|0.012162887704951886|\n",
            "|     [104]|     [120]|0.21141911460488208|5.777755103756219|0.010552182711766406|\n",
            "|     [104]|      [67]| 0.3491932147290029|8.562040818464148| 0.01742865402882749|\n",
            "|     [104]|     [165]|0.23251965246172943|8.249081824257663|0.011605335976541528|\n",
            "|     [104]|     [229]|0.24617294166321887|6.890850215597131|0.012286788089043077|\n",
            "|     [104]|      [20]|0.40587505171700455|6.928059659657265|0.020257712798909675|\n",
            "+----------+----------+-------------------+-----------------+--------------------+\n",
            "only showing top 20 rows\n",
            "\n"
          ]
        }
      ]
    },
    {
      "cell_type": "code",
      "source": [
        "frequentItemsets.filter( \"freq>2000\").show()"
      ],
      "metadata": {
        "colab": {
          "base_uri": "https://localhost:8080/"
        },
        "id": "ho7VbHoAixQF",
        "outputId": "9c1698e7-5635-4478-843e-711181063123"
      },
      "execution_count": null,
      "outputs": [
        {
          "output_type": "stream",
          "name": "stdout",
          "text": [
            "+-----+----+\n",
            "|items|freq|\n",
            "+-----+----+\n",
            "|[110]|2172|\n",
            "| [20]|2837|\n",
            "|[104]|2417|\n",
            "|[103]|2123|\n",
            "+-----+----+\n",
            "\n"
          ]
        }
      ]
    },
    {
      "cell_type": "markdown",
      "source": [
        "Prediction"
      ],
      "metadata": {
        "id": "GJ8xUTlTo1_1"
      }
    },
    {
      "cell_type": "code",
      "source": [
        "transformed = model.transform(basketdata)\n",
        "transformed.show()"
      ],
      "metadata": {
        "colab": {
          "base_uri": "https://localhost:8080/"
        },
        "id": "H_Ctq46nixNU",
        "outputId": "103e5ee7-5216-4901-b292-93fe4010c4db"
      },
      "execution_count": null,
      "outputs": [
        {
          "output_type": "stream",
          "name": "stdout",
          "text": [
            "+------------------+--------------------+--------------------+\n",
            "|SalesTransactionID|               items|          prediction|\n",
            "+------------------+--------------------+--------------------+\n",
            "|                 0|                 [0]|                  []|\n",
            "|                 1|           [0, 1, 2]|                  []|\n",
            "|                 2|                 [1]|                  []|\n",
            "|                 3|                 [0]|                  []|\n",
            "|                 4|                 [0]|                  []|\n",
            "|                 5|                 [0]|                  []|\n",
            "|                 6|                 [2]|                  []|\n",
            "|                 7|                 [2]|                  []|\n",
            "|                 8|                 [0]|                  []|\n",
            "|                10|              [1, 0]|                  []|\n",
            "|                11|                 [0]|                  []|\n",
            "|                12|              [4, 3]|                  []|\n",
            "|                13|                 [5]|                  []|\n",
            "|                15|           [7, 8, 9]|                  []|\n",
            "|                16|[17, 15, 16, 20, ...|[108, 161, 110, 8...|\n",
            "|                17|                [21]|                  []|\n",
            "|                18|                [22]|                  []|\n",
            "|                19|[33, 41, 27, 34, ...|                  []|\n",
            "|                20|[59, 50, 57, 60, ...|                  []|\n",
            "|                21|                [62]|                  []|\n",
            "+------------------+--------------------+--------------------+\n",
            "only showing top 20 rows\n",
            "\n"
          ]
        }
      ]
    },
    {
      "cell_type": "code",
      "source": [
        "a = 104\n",
        "transformed.filter(array_contains(transformed.items, 104)).show()\n",
        "\n"
      ],
      "metadata": {
        "colab": {
          "base_uri": "https://localhost:8080/"
        },
        "id": "Ddm6bDzBixK4",
        "outputId": "c745d84e-06f1-4a10-bb10-d2d66e5cb3d2"
      },
      "execution_count": null,
      "outputs": [
        {
          "output_type": "stream",
          "name": "stdout",
          "text": [
            "+------------------+--------------------+--------------------+\n",
            "|SalesTransactionID|               items|          prediction|\n",
            "+------------------+--------------------+--------------------+\n",
            "|                25|[7, 86, 105, 104,...|[312, 108, 122, 1...|\n",
            "|                27|[20, 6, 141, 114,...|[103, 67, 312, 91...|\n",
            "|                35|[118, 85, 82, 17,...|[67, 312, 110, 98...|\n",
            "|                36|[92, 108, 153, 91...|[103, 312, 110, 6...|\n",
            "|                39|[103, 158, 209, 2...|[312, 110, 98, 12...|\n",
            "|                46|[176, 185, 250, 8...|[108, 83, 122, 12...|\n",
            "|                52|[93, 270, 168, 13...|[91, 203, 312, 11...|\n",
            "|                58|[203, 208, 122, 2...|[312, 110, 91, 98...|\n",
            "|                61|[20, 122, 280, 84...|[312, 110, 91, 98...|\n",
            "|                66|[160, 392, 13, 67...|[103, 108, 110, 9...|\n",
            "|                68|[306, 216, 20, 10...|[103, 312, 110, 9...|\n",
            "|                70|[303, 84, 94, 9, ...|[108, 203, 109, 1...|\n",
            "|                72|[109, 291, 201, 1...|[64, 312, 110, 98...|\n",
            "|                74|[216, 85, 189, 40...|[103, 108, 109, 1...|\n",
            "|                78|[67, 208, 104, 18...|[108, 109, 110, 8...|\n",
            "|                80|[13, 156, 79, 20,...|[103, 108, 109, 1...|\n",
            "|                83|[378, 84, 220, 92...|[108, 110, 83, 12...|\n",
            "|                85|[125, 109, 112, 6...|[312, 110, 98, 16...|\n",
            "|                88|[94, 464, 420, 29...|[91, 165, 92, 229...|\n",
            "|                92|[103, 470, 477, 2...|[63, 316, 108, 83...|\n",
            "+------------------+--------------------+--------------------+\n",
            "only showing top 20 rows\n",
            "\n"
          ]
        }
      ]
    },
    {
      "cell_type": "markdown",
      "source": [
        "Finding the predictions for [104]"
      ],
      "metadata": {
        "id": "rZOxI4SDuznv"
      }
    },
    {
      "cell_type": "code",
      "source": [
        "transformed.where(transformed.items == array(*(lit(x) for x in [104]))).show()"
      ],
      "metadata": {
        "colab": {
          "base_uri": "https://localhost:8080/"
        },
        "id": "PsWxAigeixHV",
        "outputId": "b0e5fd4a-636d-476d-ee68-6b730bda2274"
      },
      "execution_count": null,
      "outputs": [
        {
          "output_type": "stream",
          "name": "stdout",
          "text": [
            "+------------------+-----+--------------------+\n",
            "|SalesTransactionID|items|          prediction|\n",
            "+------------------+-----+--------------------+\n",
            "|              3752|[104]|[108, 109, 110, 8...|\n",
            "|              3867|[104]|[108, 109, 110, 8...|\n",
            "|              3882|[104]|[108, 109, 110, 8...|\n",
            "|              3920|[104]|[108, 109, 110, 8...|\n",
            "|              3925|[104]|[108, 109, 110, 8...|\n",
            "|              3934|[104]|[108, 109, 110, 8...|\n",
            "|              4084|[104]|[108, 109, 110, 8...|\n",
            "|              4119|[104]|[108, 109, 110, 8...|\n",
            "|              4227|[104]|[108, 109, 110, 8...|\n",
            "|              4333|[104]|[108, 109, 110, 8...|\n",
            "|              4374|[104]|[108, 109, 110, 8...|\n",
            "|              4651|[104]|[108, 109, 110, 8...|\n",
            "|              5322|[104]|[108, 109, 110, 8...|\n",
            "|              5804|[104]|[108, 109, 110, 8...|\n",
            "|              5901|[104]|[108, 109, 110, 8...|\n",
            "|              6445|[104]|[108, 109, 110, 8...|\n",
            "|              6653|[104]|[108, 109, 110, 8...|\n",
            "|             10158|[104]|[108, 109, 110, 8...|\n",
            "|             10217|[104]|[108, 109, 110, 8...|\n",
            "|             10309|[104]|[108, 109, 110, 8...|\n",
            "+------------------+-----+--------------------+\n",
            "only showing top 20 rows\n",
            "\n"
          ]
        }
      ]
    },
    {
      "cell_type": "code",
      "source": [
        "transformed.where(transformed.items == array(*(lit(x) for x in [64, 63, 316]))).show()"
      ],
      "metadata": {
        "colab": {
          "base_uri": "https://localhost:8080/"
        },
        "id": "Z-cdkqpbvKSi",
        "outputId": "66c9ade7-82cf-4b1e-874a-43e82967cf73"
      },
      "execution_count": null,
      "outputs": [
        {
          "output_type": "stream",
          "name": "stdout",
          "text": [
            "+------------------+-------------+----------+\n",
            "|SalesTransactionID|        items|prediction|\n",
            "+------------------+-------------+----------+\n",
            "|             10510|[64, 63, 316]|      [20]|\n",
            "+------------------+-------------+----------+\n",
            "\n"
          ]
        }
      ]
    },
    {
      "cell_type": "markdown",
      "source": [
        "## LOGISTIC REGRESSION"
      ],
      "metadata": {
        "id": "VoGRcL7owNV1"
      }
    },
    {
      "cell_type": "code",
      "source": [
        "heart_data = pd.read_csv(\"heart.csv\", header=None)"
      ],
      "metadata": {
        "id": "A-rawyFVvFZ_"
      },
      "execution_count": null,
      "outputs": []
    },
    {
      "cell_type": "code",
      "source": [
        "heart_data.head()"
      ],
      "metadata": {
        "colab": {
          "base_uri": "https://localhost:8080/",
          "height": 206
        },
        "id": "NeN-uPexwahT",
        "outputId": "1faadad1-2fdb-48b7-f82a-6a1dc1cf8d22"
      },
      "execution_count": null,
      "outputs": [
        {
          "output_type": "execute_result",
          "data": {
            "text/html": [
              "<div>\n",
              "<style scoped>\n",
              "    .dataframe tbody tr th:only-of-type {\n",
              "        vertical-align: middle;\n",
              "    }\n",
              "\n",
              "    .dataframe tbody tr th {\n",
              "        vertical-align: top;\n",
              "    }\n",
              "\n",
              "    .dataframe thead th {\n",
              "        text-align: right;\n",
              "    }\n",
              "</style>\n",
              "<table border=\"1\" class=\"dataframe\">\n",
              "  <thead>\n",
              "    <tr style=\"text-align: right;\">\n",
              "      <th></th>\n",
              "      <th>0</th>\n",
              "      <th>1</th>\n",
              "      <th>2</th>\n",
              "      <th>3</th>\n",
              "      <th>4</th>\n",
              "      <th>5</th>\n",
              "      <th>6</th>\n",
              "      <th>7</th>\n",
              "      <th>8</th>\n",
              "      <th>9</th>\n",
              "      <th>10</th>\n",
              "      <th>11</th>\n",
              "      <th>12</th>\n",
              "      <th>13</th>\n",
              "    </tr>\n",
              "  </thead>\n",
              "  <tbody>\n",
              "    <tr>\n",
              "      <th>0</th>\n",
              "      <td>63.0</td>\n",
              "      <td>1.0</td>\n",
              "      <td>1.0</td>\n",
              "      <td>145.0</td>\n",
              "      <td>233.0</td>\n",
              "      <td>1.0</td>\n",
              "      <td>2.0</td>\n",
              "      <td>150.0</td>\n",
              "      <td>0.0</td>\n",
              "      <td>2.3</td>\n",
              "      <td>3.0</td>\n",
              "      <td>0.0</td>\n",
              "      <td>6.0</td>\n",
              "      <td>0</td>\n",
              "    </tr>\n",
              "    <tr>\n",
              "      <th>1</th>\n",
              "      <td>67.0</td>\n",
              "      <td>1.0</td>\n",
              "      <td>4.0</td>\n",
              "      <td>160.0</td>\n",
              "      <td>286.0</td>\n",
              "      <td>0.0</td>\n",
              "      <td>2.0</td>\n",
              "      <td>108.0</td>\n",
              "      <td>1.0</td>\n",
              "      <td>1.5</td>\n",
              "      <td>2.0</td>\n",
              "      <td>3.0</td>\n",
              "      <td>3.0</td>\n",
              "      <td>2</td>\n",
              "    </tr>\n",
              "    <tr>\n",
              "      <th>2</th>\n",
              "      <td>67.0</td>\n",
              "      <td>1.0</td>\n",
              "      <td>4.0</td>\n",
              "      <td>120.0</td>\n",
              "      <td>229.0</td>\n",
              "      <td>0.0</td>\n",
              "      <td>2.0</td>\n",
              "      <td>129.0</td>\n",
              "      <td>1.0</td>\n",
              "      <td>2.6</td>\n",
              "      <td>2.0</td>\n",
              "      <td>2.0</td>\n",
              "      <td>7.0</td>\n",
              "      <td>1</td>\n",
              "    </tr>\n",
              "    <tr>\n",
              "      <th>3</th>\n",
              "      <td>37.0</td>\n",
              "      <td>1.0</td>\n",
              "      <td>3.0</td>\n",
              "      <td>130.0</td>\n",
              "      <td>250.0</td>\n",
              "      <td>0.0</td>\n",
              "      <td>0.0</td>\n",
              "      <td>187.0</td>\n",
              "      <td>0.0</td>\n",
              "      <td>3.5</td>\n",
              "      <td>3.0</td>\n",
              "      <td>0.0</td>\n",
              "      <td>3.0</td>\n",
              "      <td>0</td>\n",
              "    </tr>\n",
              "    <tr>\n",
              "      <th>4</th>\n",
              "      <td>41.0</td>\n",
              "      <td>0.0</td>\n",
              "      <td>2.0</td>\n",
              "      <td>130.0</td>\n",
              "      <td>204.0</td>\n",
              "      <td>0.0</td>\n",
              "      <td>2.0</td>\n",
              "      <td>172.0</td>\n",
              "      <td>0.0</td>\n",
              "      <td>1.4</td>\n",
              "      <td>1.0</td>\n",
              "      <td>0.0</td>\n",
              "      <td>3.0</td>\n",
              "      <td>0</td>\n",
              "    </tr>\n",
              "  </tbody>\n",
              "</table>\n",
              "</div>"
            ],
            "text/plain": [
              "     0    1    2      3      4    5    6      7    8    9    10   11   12  13\n",
              "0  63.0  1.0  1.0  145.0  233.0  1.0  2.0  150.0  0.0  2.3  3.0  0.0  6.0   0\n",
              "1  67.0  1.0  4.0  160.0  286.0  0.0  2.0  108.0  1.0  1.5  2.0  3.0  3.0   2\n",
              "2  67.0  1.0  4.0  120.0  229.0  0.0  2.0  129.0  1.0  2.6  2.0  2.0  7.0   1\n",
              "3  37.0  1.0  3.0  130.0  250.0  0.0  0.0  187.0  0.0  3.5  3.0  0.0  3.0   0\n",
              "4  41.0  0.0  2.0  130.0  204.0  0.0  2.0  172.0  0.0  1.4  1.0  0.0  3.0   0"
            ]
          },
          "metadata": {},
          "execution_count": 88
        }
      ]
    },
    {
      "cell_type": "code",
      "source": [
        "schema = [\"age\", 'sex', 'cp', 'trestbps', 'chol', 'fbs', 'restecg', 'thalach', 'exang', 'oldpeak', 'slope', 'ca', 'thal', 'target']"
      ],
      "metadata": {
        "id": "X3-67SVxwd6T"
      },
      "execution_count": null,
      "outputs": []
    },
    {
      "cell_type": "code",
      "source": [
        "df = spark.createDataFrame(heart_data, schema)"
      ],
      "metadata": {
        "id": "JK4HpGtAx1uB"
      },
      "execution_count": null,
      "outputs": []
    },
    {
      "cell_type": "code",
      "source": [
        "df.show()"
      ],
      "metadata": {
        "colab": {
          "base_uri": "https://localhost:8080/"
        },
        "id": "vqqq15-hzf23",
        "outputId": "a427f376-facb-4202-91e5-72d6ad6cd1c2"
      },
      "execution_count": null,
      "outputs": [
        {
          "output_type": "stream",
          "name": "stdout",
          "text": [
            "+----+---+---+--------+-----+---+-------+-------+-----+-------+-----+---+----+------+\n",
            "| age|sex| cp|trestbps| chol|fbs|restecg|thalach|exang|oldpeak|slope| ca|thal|target|\n",
            "+----+---+---+--------+-----+---+-------+-------+-----+-------+-----+---+----+------+\n",
            "|63.0|1.0|1.0|   145.0|233.0|1.0|    2.0|  150.0|  0.0|    2.3|  3.0|0.0| 6.0|     0|\n",
            "|67.0|1.0|4.0|   160.0|286.0|0.0|    2.0|  108.0|  1.0|    1.5|  2.0|3.0| 3.0|     2|\n",
            "|67.0|1.0|4.0|   120.0|229.0|0.0|    2.0|  129.0|  1.0|    2.6|  2.0|2.0| 7.0|     1|\n",
            "|37.0|1.0|3.0|   130.0|250.0|0.0|    0.0|  187.0|  0.0|    3.5|  3.0|0.0| 3.0|     0|\n",
            "|41.0|0.0|2.0|   130.0|204.0|0.0|    2.0|  172.0|  0.0|    1.4|  1.0|0.0| 3.0|     0|\n",
            "|56.0|1.0|2.0|   120.0|236.0|0.0|    0.0|  178.0|  0.0|    0.8|  1.0|0.0| 3.0|     0|\n",
            "|62.0|0.0|4.0|   140.0|268.0|0.0|    2.0|  160.0|  0.0|    3.6|  3.0|2.0| 3.0|     3|\n",
            "|57.0|0.0|4.0|   120.0|354.0|0.0|    0.0|  163.0|  1.0|    0.6|  1.0|0.0| 3.0|     0|\n",
            "|63.0|1.0|4.0|   130.0|254.0|0.0|    2.0|  147.0|  0.0|    1.4|  2.0|1.0| 7.0|     2|\n",
            "|53.0|1.0|4.0|   140.0|203.0|1.0|    2.0|  155.0|  1.0|    3.1|  3.0|0.0| 7.0|     1|\n",
            "|57.0|1.0|4.0|   140.0|192.0|0.0|    0.0|  148.0|  0.0|    0.4|  2.0|0.0| 6.0|     0|\n",
            "|56.0|0.0|2.0|   140.0|294.0|0.0|    2.0|  153.0|  0.0|    1.3|  2.0|0.0| 3.0|     0|\n",
            "|56.0|1.0|3.0|   130.0|256.0|1.0|    2.0|  142.0|  1.0|    0.6|  2.0|1.0| 6.0|     2|\n",
            "|44.0|1.0|2.0|   120.0|263.0|0.0|    0.0|  173.0|  0.0|    0.0|  1.0|0.0| 7.0|     0|\n",
            "|52.0|1.0|3.0|   172.0|199.0|1.0|    0.0|  162.0|  0.0|    0.5|  1.0|0.0| 7.0|     0|\n",
            "|57.0|1.0|3.0|   150.0|168.0|0.0|    0.0|  174.0|  0.0|    1.6|  1.0|0.0| 3.0|     0|\n",
            "|48.0|1.0|2.0|   110.0|229.0|0.0|    0.0|  168.0|  0.0|    1.0|  3.0|0.0| 7.0|     1|\n",
            "|54.0|1.0|4.0|   140.0|239.0|0.0|    0.0|  160.0|  0.0|    1.2|  1.0|0.0| 3.0|     0|\n",
            "|48.0|0.0|3.0|   130.0|275.0|0.0|    0.0|  139.0|  0.0|    0.2|  1.0|0.0| 3.0|     0|\n",
            "|49.0|1.0|2.0|   130.0|266.0|0.0|    0.0|  171.0|  0.0|    0.6|  1.0|0.0| 3.0|     0|\n",
            "+----+---+---+--------+-----+---+-------+-------+-----+-------+-----+---+----+------+\n",
            "only showing top 20 rows\n",
            "\n"
          ]
        }
      ]
    },
    {
      "cell_type": "code",
      "source": [
        "df = df.withColumn( 'target', when(df.target > 0,1).otherwise(0))\n",
        "df.show()"
      ],
      "metadata": {
        "colab": {
          "base_uri": "https://localhost:8080/"
        },
        "id": "BTWZXpF9y7Ou",
        "outputId": "2e71e906-6d79-4c6d-b6e6-cada2817ce87"
      },
      "execution_count": null,
      "outputs": [
        {
          "output_type": "stream",
          "name": "stdout",
          "text": [
            "+----+---+---+--------+-----+---+-------+-------+-----+-------+-----+---+----+------+\n",
            "| age|sex| cp|trestbps| chol|fbs|restecg|thalach|exang|oldpeak|slope| ca|thal|target|\n",
            "+----+---+---+--------+-----+---+-------+-------+-----+-------+-----+---+----+------+\n",
            "|63.0|1.0|1.0|   145.0|233.0|1.0|    2.0|  150.0|  0.0|    2.3|  3.0|0.0| 6.0|     0|\n",
            "|67.0|1.0|4.0|   160.0|286.0|0.0|    2.0|  108.0|  1.0|    1.5|  2.0|3.0| 3.0|     1|\n",
            "|67.0|1.0|4.0|   120.0|229.0|0.0|    2.0|  129.0|  1.0|    2.6|  2.0|2.0| 7.0|     1|\n",
            "|37.0|1.0|3.0|   130.0|250.0|0.0|    0.0|  187.0|  0.0|    3.5|  3.0|0.0| 3.0|     0|\n",
            "|41.0|0.0|2.0|   130.0|204.0|0.0|    2.0|  172.0|  0.0|    1.4|  1.0|0.0| 3.0|     0|\n",
            "|56.0|1.0|2.0|   120.0|236.0|0.0|    0.0|  178.0|  0.0|    0.8|  1.0|0.0| 3.0|     0|\n",
            "|62.0|0.0|4.0|   140.0|268.0|0.0|    2.0|  160.0|  0.0|    3.6|  3.0|2.0| 3.0|     1|\n",
            "|57.0|0.0|4.0|   120.0|354.0|0.0|    0.0|  163.0|  1.0|    0.6|  1.0|0.0| 3.0|     0|\n",
            "|63.0|1.0|4.0|   130.0|254.0|0.0|    2.0|  147.0|  0.0|    1.4|  2.0|1.0| 7.0|     1|\n",
            "|53.0|1.0|4.0|   140.0|203.0|1.0|    2.0|  155.0|  1.0|    3.1|  3.0|0.0| 7.0|     1|\n",
            "|57.0|1.0|4.0|   140.0|192.0|0.0|    0.0|  148.0|  0.0|    0.4|  2.0|0.0| 6.0|     0|\n",
            "|56.0|0.0|2.0|   140.0|294.0|0.0|    2.0|  153.0|  0.0|    1.3|  2.0|0.0| 3.0|     0|\n",
            "|56.0|1.0|3.0|   130.0|256.0|1.0|    2.0|  142.0|  1.0|    0.6|  2.0|1.0| 6.0|     1|\n",
            "|44.0|1.0|2.0|   120.0|263.0|0.0|    0.0|  173.0|  0.0|    0.0|  1.0|0.0| 7.0|     0|\n",
            "|52.0|1.0|3.0|   172.0|199.0|1.0|    0.0|  162.0|  0.0|    0.5|  1.0|0.0| 7.0|     0|\n",
            "|57.0|1.0|3.0|   150.0|168.0|0.0|    0.0|  174.0|  0.0|    1.6|  1.0|0.0| 3.0|     0|\n",
            "|48.0|1.0|2.0|   110.0|229.0|0.0|    0.0|  168.0|  0.0|    1.0|  3.0|0.0| 7.0|     1|\n",
            "|54.0|1.0|4.0|   140.0|239.0|0.0|    0.0|  160.0|  0.0|    1.2|  1.0|0.0| 3.0|     0|\n",
            "|48.0|0.0|3.0|   130.0|275.0|0.0|    0.0|  139.0|  0.0|    0.2|  1.0|0.0| 3.0|     0|\n",
            "|49.0|1.0|2.0|   130.0|266.0|0.0|    0.0|  171.0|  0.0|    0.6|  1.0|0.0| 3.0|     0|\n",
            "+----+---+---+--------+-----+---+-------+-------+-----+-------+-----+---+----+------+\n",
            "only showing top 20 rows\n",
            "\n"
          ]
        }
      ]
    },
    {
      "cell_type": "code",
      "source": [
        "from pyspark.ml.feature import VectorAssembler\n",
        "freture_cols = [\"age\", 'sex', 'cp', 'trestbps', 'chol', 'fbs', 'restecg', 'thalach', 'exang', 'oldpeak', 'slope', 'ca', 'thal']\n",
        "vec_assembler = VectorAssembler(inputCols = freture_cols, outputCol = \"features\")\n",
        "\n",
        "\n"
      ],
      "metadata": {
        "id": "JlJI_WM_zspq"
      },
      "execution_count": null,
      "outputs": []
    },
    {
      "cell_type": "code",
      "source": [
        "final_data = vec_assembler.transform(df)\n",
        "final_data.show()"
      ],
      "metadata": {
        "colab": {
          "base_uri": "https://localhost:8080/"
        },
        "id": "aDsXHkrv0RBJ",
        "outputId": "b3fa18b2-3d02-48f3-c70d-720b9afcac6b"
      },
      "execution_count": null,
      "outputs": [
        {
          "output_type": "stream",
          "name": "stdout",
          "text": [
            "+----+---+---+--------+-----+---+-------+-------+-----+-------+-----+---+----+------+--------------------+\n",
            "| age|sex| cp|trestbps| chol|fbs|restecg|thalach|exang|oldpeak|slope| ca|thal|target|            features|\n",
            "+----+---+---+--------+-----+---+-------+-------+-----+-------+-----+---+----+------+--------------------+\n",
            "|63.0|1.0|1.0|   145.0|233.0|1.0|    2.0|  150.0|  0.0|    2.3|  3.0|0.0| 6.0|     0|[63.0,1.0,1.0,145...|\n",
            "|67.0|1.0|4.0|   160.0|286.0|0.0|    2.0|  108.0|  1.0|    1.5|  2.0|3.0| 3.0|     1|[67.0,1.0,4.0,160...|\n",
            "|67.0|1.0|4.0|   120.0|229.0|0.0|    2.0|  129.0|  1.0|    2.6|  2.0|2.0| 7.0|     1|[67.0,1.0,4.0,120...|\n",
            "|37.0|1.0|3.0|   130.0|250.0|0.0|    0.0|  187.0|  0.0|    3.5|  3.0|0.0| 3.0|     0|[37.0,1.0,3.0,130...|\n",
            "|41.0|0.0|2.0|   130.0|204.0|0.0|    2.0|  172.0|  0.0|    1.4|  1.0|0.0| 3.0|     0|[41.0,0.0,2.0,130...|\n",
            "|56.0|1.0|2.0|   120.0|236.0|0.0|    0.0|  178.0|  0.0|    0.8|  1.0|0.0| 3.0|     0|[56.0,1.0,2.0,120...|\n",
            "|62.0|0.0|4.0|   140.0|268.0|0.0|    2.0|  160.0|  0.0|    3.6|  3.0|2.0| 3.0|     1|[62.0,0.0,4.0,140...|\n",
            "|57.0|0.0|4.0|   120.0|354.0|0.0|    0.0|  163.0|  1.0|    0.6|  1.0|0.0| 3.0|     0|[57.0,0.0,4.0,120...|\n",
            "|63.0|1.0|4.0|   130.0|254.0|0.0|    2.0|  147.0|  0.0|    1.4|  2.0|1.0| 7.0|     1|[63.0,1.0,4.0,130...|\n",
            "|53.0|1.0|4.0|   140.0|203.0|1.0|    2.0|  155.0|  1.0|    3.1|  3.0|0.0| 7.0|     1|[53.0,1.0,4.0,140...|\n",
            "|57.0|1.0|4.0|   140.0|192.0|0.0|    0.0|  148.0|  0.0|    0.4|  2.0|0.0| 6.0|     0|[57.0,1.0,4.0,140...|\n",
            "|56.0|0.0|2.0|   140.0|294.0|0.0|    2.0|  153.0|  0.0|    1.3|  2.0|0.0| 3.0|     0|[56.0,0.0,2.0,140...|\n",
            "|56.0|1.0|3.0|   130.0|256.0|1.0|    2.0|  142.0|  1.0|    0.6|  2.0|1.0| 6.0|     1|[56.0,1.0,3.0,130...|\n",
            "|44.0|1.0|2.0|   120.0|263.0|0.0|    0.0|  173.0|  0.0|    0.0|  1.0|0.0| 7.0|     0|[44.0,1.0,2.0,120...|\n",
            "|52.0|1.0|3.0|   172.0|199.0|1.0|    0.0|  162.0|  0.0|    0.5|  1.0|0.0| 7.0|     0|[52.0,1.0,3.0,172...|\n",
            "|57.0|1.0|3.0|   150.0|168.0|0.0|    0.0|  174.0|  0.0|    1.6|  1.0|0.0| 3.0|     0|[57.0,1.0,3.0,150...|\n",
            "|48.0|1.0|2.0|   110.0|229.0|0.0|    0.0|  168.0|  0.0|    1.0|  3.0|0.0| 7.0|     1|[48.0,1.0,2.0,110...|\n",
            "|54.0|1.0|4.0|   140.0|239.0|0.0|    0.0|  160.0|  0.0|    1.2|  1.0|0.0| 3.0|     0|[54.0,1.0,4.0,140...|\n",
            "|48.0|0.0|3.0|   130.0|275.0|0.0|    0.0|  139.0|  0.0|    0.2|  1.0|0.0| 3.0|     0|[48.0,0.0,3.0,130...|\n",
            "|49.0|1.0|2.0|   130.0|266.0|0.0|    0.0|  171.0|  0.0|    0.6|  1.0|0.0| 3.0|     0|[49.0,1.0,2.0,130...|\n",
            "+----+---+---+--------+-----+---+-------+-------+-----+-------+-----+---+----+------+--------------------+\n",
            "only showing top 20 rows\n",
            "\n"
          ]
        }
      ]
    },
    {
      "cell_type": "code",
      "source": [
        "training, testing = final_data.randomSplit([0.7,0.3],seed = 42)"
      ],
      "metadata": {
        "id": "D1UcsZDf0bw7"
      },
      "execution_count": null,
      "outputs": []
    },
    {
      "cell_type": "code",
      "source": [
        "from pyspark.ml.classification import LogisticRegression"
      ],
      "metadata": {
        "id": "LiIu5qL81Chm"
      },
      "execution_count": null,
      "outputs": []
    },
    {
      "cell_type": "code",
      "source": [
        "lr = LogisticRegression( labelCol=\"target\", featuresCol=\"features\")\n",
        "lrModel = lr.fit(training)"
      ],
      "metadata": {
        "id": "9oWfgH6W1NPh"
      },
      "execution_count": null,
      "outputs": []
    },
    {
      "cell_type": "code",
      "source": [
        "prediction = lrModel.transform(testing)"
      ],
      "metadata": {
        "id": "J8AFwDDU1bL6"
      },
      "execution_count": null,
      "outputs": []
    },
    {
      "cell_type": "code",
      "source": [
        "prediction.show()"
      ],
      "metadata": {
        "colab": {
          "base_uri": "https://localhost:8080/"
        },
        "id": "kKsAjIxu1fy5",
        "outputId": "b11ed39b-21b9-4ad7-fa80-99ed03ba8065"
      },
      "execution_count": null,
      "outputs": [
        {
          "output_type": "stream",
          "name": "stdout",
          "text": [
            "+----+---+---+--------+-----+---+-------+-------+-----+-------+-----+---+----+------+--------------------+--------------------+--------------------+----------+\n",
            "| age|sex| cp|trestbps| chol|fbs|restecg|thalach|exang|oldpeak|slope| ca|thal|target|            features|       rawPrediction|         probability|prediction|\n",
            "+----+---+---+--------+-----+---+-------+-------+-----+-------+-----+---+----+------+--------------------+--------------------+--------------------+----------+\n",
            "|40.0|1.0|4.0|   110.0|167.0|0.0|    2.0|  114.0|  1.0|    2.0|  2.0|0.0| 7.0|     1|[40.0,1.0,4.0,110...|[-3.2748079773596...|[0.03644560814225...|       1.0|\n",
            "|42.0|1.0|4.0|   140.0|226.0|0.0|    0.0|  178.0|  0.0|    0.0|  1.0|0.0| 3.0|     0|[42.0,1.0,4.0,140...|[1.78117986814546...|[0.85584249458715...|       0.0|\n",
            "|43.0|1.0|4.0|   150.0|247.0|0.0|    0.0|  171.0|  0.0|    1.5|  1.0|0.0| 3.0|     0|[43.0,1.0,4.0,150...|[1.05329686898155...|[0.74140748579649...|       0.0|\n",
            "|44.0|1.0|2.0|   120.0|263.0|0.0|    0.0|  173.0|  0.0|    0.0|  1.0|0.0| 7.0|     0|[44.0,1.0,2.0,120...|[2.11408981417368...|[0.89226511041941...|       0.0|\n",
            "|46.0|0.0|3.0|   142.0|177.0|0.0|    2.0|  160.0|  1.0|    1.4|  3.0|0.0| 3.0|     0|[46.0,0.0,3.0,142...|[0.20006342259418...|[0.54984969540600...|       0.0|\n",
            "|46.0|1.0|3.0|   150.0|231.0|0.0|    0.0|  147.0|  0.0|    3.6|  2.0|0.0| 3.0|     1|[46.0,1.0,3.0,150...|[0.18609526530568...|[0.54639001409091...|       0.0|\n",
            "|48.0|0.0|3.0|   130.0|275.0|0.0|    0.0|  139.0|  0.0|    0.2|  1.0|0.0| 3.0|     0|[48.0,0.0,3.0,130...|[3.80928290370022...|[0.97831652692060...|       0.0|\n",
            "|50.0|1.0|3.0|   140.0|233.0|0.0|    0.0|  163.0|  0.0|    0.6|  2.0|1.0| 7.0|     1|[50.0,1.0,3.0,140...|[-1.4047072664815...|[0.19707020174642...|       1.0|\n",
            "|51.0|0.0|4.0|   130.0|305.0|0.0|    0.0|  142.0|  1.0|    1.2|  2.0|0.0| 7.0|     1|[51.0,0.0,4.0,130...|[-0.7713935222282...|[0.31617773654280...|       1.0|\n",
            "|51.0|1.0|3.0|   110.0|175.0|0.0|    0.0|  123.0|  0.0|    0.6|  1.0|0.0| 3.0|     0|[51.0,1.0,3.0,110...|[2.77118090389193...|[0.94109848066163...|       0.0|\n",
            "|52.0|1.0|3.0|   172.0|199.0|1.0|    0.0|  162.0|  0.0|    0.5|  1.0|0.0| 7.0|     0|[52.0,1.0,3.0,172...|[1.48980848395978...|[0.81604952533119...|       0.0|\n",
            "|54.0|1.0|3.0|   125.0|273.0|0.0|    2.0|  152.0|  0.0|    0.5|  3.0|1.0| 3.0|     0|[54.0,1.0,3.0,125...|[-0.6573708170397...|[0.34133046809623...|       1.0|\n",
            "|54.0|1.0|3.0|   150.0|232.0|0.0|    2.0|  165.0|  0.0|    1.6|  1.0|0.0| 7.0|     0|[54.0,1.0,3.0,150...|[0.22577511685234...|[0.55620522946822...|       0.0|\n",
            "|54.0|1.0|4.0|   120.0|188.0|0.0|    0.0|  113.0|  0.0|    1.4|  2.0|1.0| 7.0|     1|[54.0,1.0,4.0,120...|[-2.3514601864232...|[0.08694977900986...|       1.0|\n",
            "|54.0|1.0|4.0|   140.0|239.0|0.0|    0.0|  160.0|  0.0|    1.2|  1.0|0.0| 3.0|     0|[54.0,1.0,4.0,140...|[1.83845198752874...|[0.86276552383564...|       0.0|\n",
            "|56.0|0.0|2.0|   140.0|294.0|0.0|    2.0|  153.0|  0.0|    1.3|  2.0|0.0| 3.0|     0|[56.0,0.0,2.0,140...|[3.41419496744633...|[0.96814522986915...|       0.0|\n",
            "|56.0|1.0|2.0|   120.0|236.0|0.0|    0.0|  178.0|  0.0|    0.8|  1.0|0.0| 3.0|     0|[56.0,1.0,2.0,120...|[4.43487046496003...|[0.98828233009088...|       0.0|\n",
            "|57.0|1.0|4.0|   140.0|192.0|0.0|    0.0|  148.0|  0.0|    0.4|  2.0|0.0| 6.0|     0|[57.0,1.0,4.0,140...|[-0.0858917205234...|[0.47854026131485...|       1.0|\n",
            "|58.0|0.0|3.0|   120.0|340.0|0.0|    0.0|  172.0|  0.0|    0.0|  1.0|0.0| 3.0|     0|(13,[0,2,3,4,7,10...|[5.29755939056872...|[0.99502112195017...|       0.0|\n",
            "|58.0|1.0|2.0|   120.0|284.0|0.0|    2.0|  160.0|  0.0|    1.8|  2.0|0.0| 3.0|     1|[58.0,1.0,2.0,120...|[2.60239540298345...|[0.93101558469825...|       0.0|\n",
            "+----+---+---+--------+-----+---+-------+-------+-----+-------+-----+---+----+------+--------------------+--------------------+--------------------+----------+\n",
            "only showing top 20 rows\n",
            "\n"
          ]
        }
      ]
    },
    {
      "cell_type": "code",
      "source": [
        "final_predictions = prediction.select(\"prediction\", \"target\")"
      ],
      "metadata": {
        "id": "RkdCyLKK1il6"
      },
      "execution_count": null,
      "outputs": []
    },
    {
      "cell_type": "code",
      "source": [
        "from pyspark.ml.evaluation import BinaryClassificationEvaluator"
      ],
      "metadata": {
        "id": "889YL0re2B0j"
      },
      "execution_count": null,
      "outputs": []
    },
    {
      "cell_type": "code",
      "source": [
        "evaluator = BinaryClassificationEvaluator( labelCol= \"target\", rawPredictionCol=\"prediction\")\n",
        "evaluator.evaluate(final_predictions)"
      ],
      "metadata": {
        "colab": {
          "base_uri": "https://localhost:8080/"
        },
        "id": "Ees25MYt2TlB",
        "outputId": "f716b429-4dc6-43c9-a74d-f50e951e4718"
      },
      "execution_count": null,
      "outputs": [
        {
          "output_type": "execute_result",
          "data": {
            "text/plain": [
              "0.8222641509433962"
            ]
          },
          "metadata": {},
          "execution_count": 107
        }
      ]
    },
    {
      "cell_type": "markdown",
      "source": [
        "##Linear Regression"
      ],
      "metadata": {
        "id": "PqU5OFtfiKBZ"
      }
    },
    {
      "cell_type": "code",
      "source": [
        "import pandas as pd\n",
        "usa_housing = pd.read_csv(\"USA_Housing.csv\")"
      ],
      "metadata": {
        "id": "rIiYt79w2ckh"
      },
      "execution_count": null,
      "outputs": []
    },
    {
      "cell_type": "code",
      "source": [
        "usa_housing.describe()"
      ],
      "metadata": {
        "colab": {
          "base_uri": "https://localhost:8080/",
          "height": 300
        },
        "id": "iFB6hE5Japqx",
        "outputId": "476c73b2-290f-46f0-8aad-d6e800901408"
      },
      "execution_count": null,
      "outputs": [
        {
          "output_type": "execute_result",
          "data": {
            "text/html": [
              "\n",
              "  <div id=\"df-75cc8ca9-333b-45ca-bd3e-b5787ad11094\">\n",
              "    <div class=\"colab-df-container\">\n",
              "      <div>\n",
              "<style scoped>\n",
              "    .dataframe tbody tr th:only-of-type {\n",
              "        vertical-align: middle;\n",
              "    }\n",
              "\n",
              "    .dataframe tbody tr th {\n",
              "        vertical-align: top;\n",
              "    }\n",
              "\n",
              "    .dataframe thead th {\n",
              "        text-align: right;\n",
              "    }\n",
              "</style>\n",
              "<table border=\"1\" class=\"dataframe\">\n",
              "  <thead>\n",
              "    <tr style=\"text-align: right;\">\n",
              "      <th></th>\n",
              "      <th>Avg. Area Income</th>\n",
              "      <th>Avg. Area House Age</th>\n",
              "      <th>Avg. Area Number of Rooms</th>\n",
              "      <th>Avg. Area Number of Bedrooms</th>\n",
              "      <th>Area Population</th>\n",
              "      <th>Price</th>\n",
              "    </tr>\n",
              "  </thead>\n",
              "  <tbody>\n",
              "    <tr>\n",
              "      <th>count</th>\n",
              "      <td>5000.000000</td>\n",
              "      <td>5000.000000</td>\n",
              "      <td>5000.000000</td>\n",
              "      <td>5000.000000</td>\n",
              "      <td>5000.000000</td>\n",
              "      <td>5.000000e+03</td>\n",
              "    </tr>\n",
              "    <tr>\n",
              "      <th>mean</th>\n",
              "      <td>68583.108984</td>\n",
              "      <td>5.977222</td>\n",
              "      <td>6.987792</td>\n",
              "      <td>3.981330</td>\n",
              "      <td>36163.516039</td>\n",
              "      <td>1.232073e+06</td>\n",
              "    </tr>\n",
              "    <tr>\n",
              "      <th>std</th>\n",
              "      <td>10657.991214</td>\n",
              "      <td>0.991456</td>\n",
              "      <td>1.005833</td>\n",
              "      <td>1.234137</td>\n",
              "      <td>9925.650114</td>\n",
              "      <td>3.531176e+05</td>\n",
              "    </tr>\n",
              "    <tr>\n",
              "      <th>min</th>\n",
              "      <td>17796.631190</td>\n",
              "      <td>2.644304</td>\n",
              "      <td>3.236194</td>\n",
              "      <td>2.000000</td>\n",
              "      <td>172.610686</td>\n",
              "      <td>1.593866e+04</td>\n",
              "    </tr>\n",
              "    <tr>\n",
              "      <th>25%</th>\n",
              "      <td>61480.562388</td>\n",
              "      <td>5.322283</td>\n",
              "      <td>6.299250</td>\n",
              "      <td>3.140000</td>\n",
              "      <td>29403.928702</td>\n",
              "      <td>9.975771e+05</td>\n",
              "    </tr>\n",
              "    <tr>\n",
              "      <th>50%</th>\n",
              "      <td>68804.286404</td>\n",
              "      <td>5.970429</td>\n",
              "      <td>7.002902</td>\n",
              "      <td>4.050000</td>\n",
              "      <td>36199.406689</td>\n",
              "      <td>1.232669e+06</td>\n",
              "    </tr>\n",
              "    <tr>\n",
              "      <th>75%</th>\n",
              "      <td>75783.338666</td>\n",
              "      <td>6.650808</td>\n",
              "      <td>7.665871</td>\n",
              "      <td>4.490000</td>\n",
              "      <td>42861.290769</td>\n",
              "      <td>1.471210e+06</td>\n",
              "    </tr>\n",
              "    <tr>\n",
              "      <th>max</th>\n",
              "      <td>107701.748378</td>\n",
              "      <td>9.519088</td>\n",
              "      <td>10.759588</td>\n",
              "      <td>6.500000</td>\n",
              "      <td>69621.713378</td>\n",
              "      <td>2.469066e+06</td>\n",
              "    </tr>\n",
              "  </tbody>\n",
              "</table>\n",
              "</div>\n",
              "      <button class=\"colab-df-convert\" onclick=\"convertToInteractive('df-75cc8ca9-333b-45ca-bd3e-b5787ad11094')\"\n",
              "              title=\"Convert this dataframe to an interactive table.\"\n",
              "              style=\"display:none;\">\n",
              "        \n",
              "  <svg xmlns=\"http://www.w3.org/2000/svg\" height=\"24px\"viewBox=\"0 0 24 24\"\n",
              "       width=\"24px\">\n",
              "    <path d=\"M0 0h24v24H0V0z\" fill=\"none\"/>\n",
              "    <path d=\"M18.56 5.44l.94 2.06.94-2.06 2.06-.94-2.06-.94-.94-2.06-.94 2.06-2.06.94zm-11 1L8.5 8.5l.94-2.06 2.06-.94-2.06-.94L8.5 2.5l-.94 2.06-2.06.94zm10 10l.94 2.06.94-2.06 2.06-.94-2.06-.94-.94-2.06-.94 2.06-2.06.94z\"/><path d=\"M17.41 7.96l-1.37-1.37c-.4-.4-.92-.59-1.43-.59-.52 0-1.04.2-1.43.59L10.3 9.45l-7.72 7.72c-.78.78-.78 2.05 0 2.83L4 21.41c.39.39.9.59 1.41.59.51 0 1.02-.2 1.41-.59l7.78-7.78 2.81-2.81c.8-.78.8-2.07 0-2.86zM5.41 20L4 18.59l7.72-7.72 1.47 1.35L5.41 20z\"/>\n",
              "  </svg>\n",
              "      </button>\n",
              "      \n",
              "  <style>\n",
              "    .colab-df-container {\n",
              "      display:flex;\n",
              "      flex-wrap:wrap;\n",
              "      gap: 12px;\n",
              "    }\n",
              "\n",
              "    .colab-df-convert {\n",
              "      background-color: #E8F0FE;\n",
              "      border: none;\n",
              "      border-radius: 50%;\n",
              "      cursor: pointer;\n",
              "      display: none;\n",
              "      fill: #1967D2;\n",
              "      height: 32px;\n",
              "      padding: 0 0 0 0;\n",
              "      width: 32px;\n",
              "    }\n",
              "\n",
              "    .colab-df-convert:hover {\n",
              "      background-color: #E2EBFA;\n",
              "      box-shadow: 0px 1px 2px rgba(60, 64, 67, 0.3), 0px 1px 3px 1px rgba(60, 64, 67, 0.15);\n",
              "      fill: #174EA6;\n",
              "    }\n",
              "\n",
              "    [theme=dark] .colab-df-convert {\n",
              "      background-color: #3B4455;\n",
              "      fill: #D2E3FC;\n",
              "    }\n",
              "\n",
              "    [theme=dark] .colab-df-convert:hover {\n",
              "      background-color: #434B5C;\n",
              "      box-shadow: 0px 1px 3px 1px rgba(0, 0, 0, 0.15);\n",
              "      filter: drop-shadow(0px 1px 2px rgba(0, 0, 0, 0.3));\n",
              "      fill: #FFFFFF;\n",
              "    }\n",
              "  </style>\n",
              "\n",
              "      <script>\n",
              "        const buttonEl =\n",
              "          document.querySelector('#df-75cc8ca9-333b-45ca-bd3e-b5787ad11094 button.colab-df-convert');\n",
              "        buttonEl.style.display =\n",
              "          google.colab.kernel.accessAllowed ? 'block' : 'none';\n",
              "\n",
              "        async function convertToInteractive(key) {\n",
              "          const element = document.querySelector('#df-75cc8ca9-333b-45ca-bd3e-b5787ad11094');\n",
              "          const dataTable =\n",
              "            await google.colab.kernel.invokeFunction('convertToInteractive',\n",
              "                                                     [key], {});\n",
              "          if (!dataTable) return;\n",
              "\n",
              "          const docLinkHtml = 'Like what you see? Visit the ' +\n",
              "            '<a target=\"_blank\" href=https://colab.research.google.com/notebooks/data_table.ipynb>data table notebook</a>'\n",
              "            + ' to learn more about interactive tables.';\n",
              "          element.innerHTML = '';\n",
              "          dataTable['output_type'] = 'display_data';\n",
              "          await google.colab.output.renderOutput(dataTable, element);\n",
              "          const docLink = document.createElement('div');\n",
              "          docLink.innerHTML = docLinkHtml;\n",
              "          element.appendChild(docLink);\n",
              "        }\n",
              "      </script>\n",
              "    </div>\n",
              "  </div>\n",
              "  "
            ],
            "text/plain": [
              "       Avg. Area Income  Avg. Area House Age  ...  Area Population         Price\n",
              "count       5000.000000          5000.000000  ...      5000.000000  5.000000e+03\n",
              "mean       68583.108984             5.977222  ...     36163.516039  1.232073e+06\n",
              "std        10657.991214             0.991456  ...      9925.650114  3.531176e+05\n",
              "min        17796.631190             2.644304  ...       172.610686  1.593866e+04\n",
              "25%        61480.562388             5.322283  ...     29403.928702  9.975771e+05\n",
              "50%        68804.286404             5.970429  ...     36199.406689  1.232669e+06\n",
              "75%        75783.338666             6.650808  ...     42861.290769  1.471210e+06\n",
              "max       107701.748378             9.519088  ...     69621.713378  2.469066e+06\n",
              "\n",
              "[8 rows x 6 columns]"
            ]
          },
          "metadata": {},
          "execution_count": 97
        }
      ]
    },
    {
      "cell_type": "code",
      "source": [
        "df = spark.createDataFrame(usa_housing)"
      ],
      "metadata": {
        "id": "55szTJZyaE-z"
      },
      "execution_count": null,
      "outputs": []
    },
    {
      "cell_type": "code",
      "source": [
        "df.show()"
      ],
      "metadata": {
        "colab": {
          "base_uri": "https://localhost:8080/"
        },
        "id": "Rd_SKQp5aMDg",
        "outputId": "a5d3d7bc-5511-4d08-d417-736097670f31"
      },
      "execution_count": null,
      "outputs": [
        {
          "output_type": "stream",
          "name": "stdout",
          "text": [
            "+------------------+-------------------+-------------------------+----------------------------+------------------+------------------+--------------------+\n",
            "|  Avg. Area Income|Avg. Area House Age|Avg. Area Number of Rooms|Avg. Area Number of Bedrooms|   Area Population|             Price|             Address|\n",
            "+------------------+-------------------+-------------------------+----------------------------+------------------+------------------+--------------------+\n",
            "| 79545.45857431678|  5.682861321615587|        7.009188142792237|                        4.09|23086.800502686456|1059033.5578701235|208 Michael Ferry...|\n",
            "| 79248.64245482568| 6.0028998082752425|        6.730821019094919|                        3.09| 40173.07217364482|  1505890.91484695|188 Johnson Views...|\n",
            "|61287.067178656784|  5.865889840310001|        8.512727430375099|                        5.13| 36882.15939970458|1058987.9878760849|9127 Elizabeth St...|\n",
            "| 63345.24004622798| 7.1882360945186425|        5.586728664827653|                        3.26| 34310.24283090706|1260616.8066294468|USS Barnett\\nFPO ...|\n",
            "| 59982.19722570803|  5.040554523106283|        7.839387785120487|                        4.23|26354.109472103148| 630943.4893385402|USNS Raymond\\nFPO...|\n",
            "|  80175.7541594853| 4.9884077575337145|        6.104512439428879|                        4.04|26748.428424689715|1068138.0743935304|06039 Jennifer Is...|\n",
            "| 64698.46342788773|  6.025335906887152|        8.147759585023431|                        3.41| 60828.24908540716|1502055.8173744078|4759 Daniel Shoal...|\n",
            "| 78394.33927753085| 6.9897797477182815|        6.620477995185026|                        2.42|36516.358972493836|1573936.5644777215|972 Joyce Viaduct...|\n",
            "| 59927.66081334963|   5.36212556960358|       6.3931209805509015|                         2.3| 29387.39600281585| 798869.5328331633|USS Gilbert\\nFPO ...|\n",
            "| 81885.92718409566|  4.423671789897876|        8.167688003472351|                         6.1| 40149.96574921337|1545154.8126419624|Unit 9446 Box 095...|\n",
            "| 80527.47208292288|   8.09351268063935|        5.042746799645982|                         4.1|47224.359840221914| 1707045.722158058|6368 John Motorwa...|\n",
            "| 50593.69549704281|  4.496512793097035|        7.467627404008019|                        4.49|34343.991885578806| 663732.3968963273|911 Castillo Park...|\n",
            "| 39033.80923698237|  7.671755372854428|        7.250029317273495|                         3.1| 39220.36146737246|1042814.0978200928|209 Natasha Strea...|\n",
            "|  73163.6634410467|  6.919534825456555|       5.9931879009455695|                        2.27|32326.123139488096|1291331.5184858206|829 Welch Track A...|\n",
            "|  69391.3801843616|  5.344776176735725|        8.406417714534253|                        4.37|35521.294033173246|1402818.2101658515|PSC 5330, Box 442...|\n",
            "| 73091.86674582321|  5.443156466535474|        8.517512711137975|                        4.01|23929.524053267953|1306674.6599511993|2278 Shannon View...|\n",
            "| 79706.96305765743|  5.067889591058972|        8.219771123286257|                        3.12| 39717.81357630952|1556786.6001947748|064 Hayley Unions...|\n",
            "| 61929.07701808926|  4.788550241805888|       5.0970095543775615|                         4.3| 24595.90149782299| 528485.2467305964|5498 Rachel Locks...|\n",
            "| 63508.19429942997|  5.947165139552473|        7.187773835329728|                        5.12|35719.653052030866|1019425.9367578316|Unit 7424 Box 278...|\n",
            "|62085.276403404874|  5.739410843630574|         7.09180810424997|                        5.49|44922.106702293066|1030591.4292116085|19696 Benjamin Ca...|\n",
            "+------------------+-------------------+-------------------------+----------------------------+------------------+------------------+--------------------+\n",
            "only showing top 20 rows\n",
            "\n"
          ]
        }
      ]
    },
    {
      "cell_type": "markdown",
      "source": [
        ""
      ],
      "metadata": {
        "id": "lohIMTPGr2An"
      }
    },
    {
      "cell_type": "code",
      "source": [
        "df.printSchema()"
      ],
      "metadata": {
        "colab": {
          "base_uri": "https://localhost:8080/"
        },
        "id": "eWKY__oWaRkf",
        "outputId": "42252648-60fb-4a37-f6eb-1693f604ff37"
      },
      "execution_count": null,
      "outputs": [
        {
          "output_type": "stream",
          "name": "stdout",
          "text": [
            "root\n",
            " |-- Avg. Area Income: double (nullable = true)\n",
            " |-- Avg. Area House Age: double (nullable = true)\n",
            " |-- Avg. Area Number of Rooms: double (nullable = true)\n",
            " |-- Avg. Area Number of Bedrooms: double (nullable = true)\n",
            " |-- Area Population: double (nullable = true)\n",
            " |-- Price: double (nullable = true)\n",
            " |-- Address: string (nullable = true)\n",
            "\n"
          ]
        }
      ]
    },
    {
      "cell_type": "code",
      "source": [
        "df=df.drop(col(\"Address\"))"
      ],
      "metadata": {
        "id": "2Kse_CE9aYWf"
      },
      "execution_count": null,
      "outputs": []
    },
    {
      "cell_type": "code",
      "source": [
        "df.show()"
      ],
      "metadata": {
        "colab": {
          "base_uri": "https://localhost:8080/"
        },
        "id": "2KuM2Ai-jWN-",
        "outputId": "ed38f6a4-d25e-42b5-f883-5a2a82b86f69"
      },
      "execution_count": null,
      "outputs": [
        {
          "output_type": "stream",
          "name": "stdout",
          "text": [
            "+------------------+-------------------+-------------------------+----------------------------+------------------+------------------+\n",
            "|  Avg. Area Income|Avg. Area House Age|Avg. Area Number of Rooms|Avg. Area Number of Bedrooms|   Area Population|             Price|\n",
            "+------------------+-------------------+-------------------------+----------------------------+------------------+------------------+\n",
            "| 79545.45857431678|  5.682861321615587|        7.009188142792237|                        4.09|23086.800502686456|1059033.5578701235|\n",
            "| 79248.64245482568| 6.0028998082752425|        6.730821019094919|                        3.09| 40173.07217364482|  1505890.91484695|\n",
            "|61287.067178656784|  5.865889840310001|        8.512727430375099|                        5.13| 36882.15939970458|1058987.9878760849|\n",
            "| 63345.24004622798| 7.1882360945186425|        5.586728664827653|                        3.26| 34310.24283090706|1260616.8066294468|\n",
            "| 59982.19722570803|  5.040554523106283|        7.839387785120487|                        4.23|26354.109472103148| 630943.4893385402|\n",
            "|  80175.7541594853| 4.9884077575337145|        6.104512439428879|                        4.04|26748.428424689715|1068138.0743935304|\n",
            "| 64698.46342788773|  6.025335906887152|        8.147759585023431|                        3.41| 60828.24908540716|1502055.8173744078|\n",
            "| 78394.33927753085| 6.9897797477182815|        6.620477995185026|                        2.42|36516.358972493836|1573936.5644777215|\n",
            "| 59927.66081334963|   5.36212556960358|       6.3931209805509015|                         2.3| 29387.39600281585| 798869.5328331633|\n",
            "| 81885.92718409566|  4.423671789897876|        8.167688003472351|                         6.1| 40149.96574921337|1545154.8126419624|\n",
            "| 80527.47208292288|   8.09351268063935|        5.042746799645982|                         4.1|47224.359840221914| 1707045.722158058|\n",
            "| 50593.69549704281|  4.496512793097035|        7.467627404008019|                        4.49|34343.991885578806| 663732.3968963273|\n",
            "| 39033.80923698237|  7.671755372854428|        7.250029317273495|                         3.1| 39220.36146737246|1042814.0978200928|\n",
            "|  73163.6634410467|  6.919534825456555|       5.9931879009455695|                        2.27|32326.123139488096|1291331.5184858206|\n",
            "|  69391.3801843616|  5.344776176735725|        8.406417714534253|                        4.37|35521.294033173246|1402818.2101658515|\n",
            "| 73091.86674582321|  5.443156466535474|        8.517512711137975|                        4.01|23929.524053267953|1306674.6599511993|\n",
            "| 79706.96305765743|  5.067889591058972|        8.219771123286257|                        3.12| 39717.81357630952|1556786.6001947748|\n",
            "| 61929.07701808926|  4.788550241805888|       5.0970095543775615|                         4.3| 24595.90149782299| 528485.2467305964|\n",
            "| 63508.19429942997|  5.947165139552473|        7.187773835329728|                        5.12|35719.653052030866|1019425.9367578316|\n",
            "|62085.276403404874|  5.739410843630574|         7.09180810424997|                        5.49|44922.106702293066|1030591.4292116085|\n",
            "+------------------+-------------------+-------------------------+----------------------------+------------------+------------------+\n",
            "only showing top 20 rows\n",
            "\n"
          ]
        }
      ]
    },
    {
      "cell_type": "code",
      "source": [
        "df = df.withColumnRenamed('Avg. Area Income', 'Avg_Area_Income')\n",
        "df = df.withColumnRenamed('Avg. Area House Age', 'Avg_Area_House_Age')\n",
        "df = df.withColumnRenamed('Avg. Area Number of Rooms', 'Avg_Area_Number_of_Rooms')\n",
        "df = df.withColumnRenamed('Avg. Area Number of Bedrooms', 'Avg_Area_Number_of_Bedrooms')\n",
        "df = df.withColumnRenamed('Area Population', 'Area_Population')"
      ],
      "metadata": {
        "id": "0fyZjHg_lI5l"
      },
      "execution_count": null,
      "outputs": []
    },
    {
      "cell_type": "code",
      "source": [
        "df.show()\n",
        "df1=df"
      ],
      "metadata": {
        "colab": {
          "base_uri": "https://localhost:8080/"
        },
        "id": "es255TxglXzM",
        "outputId": "3dabed23-2bc8-49fe-bf96-03248f430c73"
      },
      "execution_count": null,
      "outputs": [
        {
          "output_type": "stream",
          "name": "stdout",
          "text": [
            "+------------------+------------------+------------------------+---------------------------+------------------+------------------+\n",
            "|   Avg_Area_Income|Avg_Area_House_Age|Avg_Area_Number_of_Rooms|Avg_Area_Number_of_Bedrooms|   Area_Population|             Price|\n",
            "+------------------+------------------+------------------------+---------------------------+------------------+------------------+\n",
            "| 79545.45857431678| 5.682861321615587|       7.009188142792237|                       4.09|23086.800502686456|1059033.5578701235|\n",
            "| 79248.64245482568|6.0028998082752425|       6.730821019094919|                       3.09| 40173.07217364482|  1505890.91484695|\n",
            "|61287.067178656784| 5.865889840310001|       8.512727430375099|                       5.13| 36882.15939970458|1058987.9878760849|\n",
            "| 63345.24004622798|7.1882360945186425|       5.586728664827653|                       3.26| 34310.24283090706|1260616.8066294468|\n",
            "| 59982.19722570803| 5.040554523106283|       7.839387785120487|                       4.23|26354.109472103148| 630943.4893385402|\n",
            "|  80175.7541594853|4.9884077575337145|       6.104512439428879|                       4.04|26748.428424689715|1068138.0743935304|\n",
            "| 64698.46342788773| 6.025335906887152|       8.147759585023431|                       3.41| 60828.24908540716|1502055.8173744078|\n",
            "| 78394.33927753085|6.9897797477182815|       6.620477995185026|                       2.42|36516.358972493836|1573936.5644777215|\n",
            "| 59927.66081334963|  5.36212556960358|      6.3931209805509015|                        2.3| 29387.39600281585| 798869.5328331633|\n",
            "| 81885.92718409566| 4.423671789897876|       8.167688003472351|                        6.1| 40149.96574921337|1545154.8126419624|\n",
            "| 80527.47208292288|  8.09351268063935|       5.042746799645982|                        4.1|47224.359840221914| 1707045.722158058|\n",
            "| 50593.69549704281| 4.496512793097035|       7.467627404008019|                       4.49|34343.991885578806| 663732.3968963273|\n",
            "| 39033.80923698237| 7.671755372854428|       7.250029317273495|                        3.1| 39220.36146737246|1042814.0978200928|\n",
            "|  73163.6634410467| 6.919534825456555|      5.9931879009455695|                       2.27|32326.123139488096|1291331.5184858206|\n",
            "|  69391.3801843616| 5.344776176735725|       8.406417714534253|                       4.37|35521.294033173246|1402818.2101658515|\n",
            "| 73091.86674582321| 5.443156466535474|       8.517512711137975|                       4.01|23929.524053267953|1306674.6599511993|\n",
            "| 79706.96305765743| 5.067889591058972|       8.219771123286257|                       3.12| 39717.81357630952|1556786.6001947748|\n",
            "| 61929.07701808926| 4.788550241805888|      5.0970095543775615|                        4.3| 24595.90149782299| 528485.2467305964|\n",
            "| 63508.19429942997| 5.947165139552473|       7.187773835329728|                       5.12|35719.653052030866|1019425.9367578316|\n",
            "|62085.276403404874| 5.739410843630574|        7.09180810424997|                       5.49|44922.106702293066|1030591.4292116085|\n",
            "+------------------+------------------+------------------------+---------------------------+------------------+------------------+\n",
            "only showing top 20 rows\n",
            "\n"
          ]
        }
      ]
    },
    {
      "cell_type": "code",
      "source": [
        "from pyspark.ml.feature import VectorAssembler\n",
        "freture_cols = ['Avg_Area_Income' , 'Avg_Area_House_Age', 'Avg_Area_Number_of_Rooms', 'Avg_Area_Number_of_Bedrooms', 'Area_Population']\n",
        "vec_assembler = VectorAssembler(inputCols = freture_cols, outputCol = \"features\")"
      ],
      "metadata": {
        "id": "E0-3b1STgjvO"
      },
      "execution_count": null,
      "outputs": []
    },
    {
      "cell_type": "code",
      "source": [
        "final_data = vec_assembler.transform(df)\n",
        "final_data.show()"
      ],
      "metadata": {
        "colab": {
          "base_uri": "https://localhost:8080/"
        },
        "id": "R5tRdTZDhZof",
        "outputId": "a3dc8491-5c64-498e-c3db-c13e2c8cf82c"
      },
      "execution_count": null,
      "outputs": [
        {
          "output_type": "stream",
          "name": "stdout",
          "text": [
            "+------------------+------------------+------------------------+---------------------------+------------------+------------------+--------------------+\n",
            "|   Avg_Area_Income|Avg_Area_House_Age|Avg_Area_Number_of_Rooms|Avg_Area_Number_of_Bedrooms|   Area_Population|             Price|            features|\n",
            "+------------------+------------------+------------------------+---------------------------+------------------+------------------+--------------------+\n",
            "| 79545.45857431678| 5.682861321615587|       7.009188142792237|                       4.09|23086.800502686456|1059033.5578701235|[79545.4585743167...|\n",
            "| 79248.64245482568|6.0028998082752425|       6.730821019094919|                       3.09| 40173.07217364482|  1505890.91484695|[79248.6424548256...|\n",
            "|61287.067178656784| 5.865889840310001|       8.512727430375099|                       5.13| 36882.15939970458|1058987.9878760849|[61287.0671786567...|\n",
            "| 63345.24004622798|7.1882360945186425|       5.586728664827653|                       3.26| 34310.24283090706|1260616.8066294468|[63345.2400462279...|\n",
            "| 59982.19722570803| 5.040554523106283|       7.839387785120487|                       4.23|26354.109472103148| 630943.4893385402|[59982.1972257080...|\n",
            "|  80175.7541594853|4.9884077575337145|       6.104512439428879|                       4.04|26748.428424689715|1068138.0743935304|[80175.7541594853...|\n",
            "| 64698.46342788773| 6.025335906887152|       8.147759585023431|                       3.41| 60828.24908540716|1502055.8173744078|[64698.4634278877...|\n",
            "| 78394.33927753085|6.9897797477182815|       6.620477995185026|                       2.42|36516.358972493836|1573936.5644777215|[78394.3392775308...|\n",
            "| 59927.66081334963|  5.36212556960358|      6.3931209805509015|                        2.3| 29387.39600281585| 798869.5328331633|[59927.6608133496...|\n",
            "| 81885.92718409566| 4.423671789897876|       8.167688003472351|                        6.1| 40149.96574921337|1545154.8126419624|[81885.9271840956...|\n",
            "| 80527.47208292288|  8.09351268063935|       5.042746799645982|                        4.1|47224.359840221914| 1707045.722158058|[80527.4720829228...|\n",
            "| 50593.69549704281| 4.496512793097035|       7.467627404008019|                       4.49|34343.991885578806| 663732.3968963273|[50593.6954970428...|\n",
            "| 39033.80923698237| 7.671755372854428|       7.250029317273495|                        3.1| 39220.36146737246|1042814.0978200928|[39033.8092369823...|\n",
            "|  73163.6634410467| 6.919534825456555|      5.9931879009455695|                       2.27|32326.123139488096|1291331.5184858206|[73163.6634410467...|\n",
            "|  69391.3801843616| 5.344776176735725|       8.406417714534253|                       4.37|35521.294033173246|1402818.2101658515|[69391.3801843616...|\n",
            "| 73091.86674582321| 5.443156466535474|       8.517512711137975|                       4.01|23929.524053267953|1306674.6599511993|[73091.8667458232...|\n",
            "| 79706.96305765743| 5.067889591058972|       8.219771123286257|                       3.12| 39717.81357630952|1556786.6001947748|[79706.9630576574...|\n",
            "| 61929.07701808926| 4.788550241805888|      5.0970095543775615|                        4.3| 24595.90149782299| 528485.2467305964|[61929.0770180892...|\n",
            "| 63508.19429942997| 5.947165139552473|       7.187773835329728|                       5.12|35719.653052030866|1019425.9367578316|[63508.1942994299...|\n",
            "|62085.276403404874| 5.739410843630574|        7.09180810424997|                       5.49|44922.106702293066|1030591.4292116085|[62085.2764034048...|\n",
            "+------------------+------------------+------------------------+---------------------------+------------------+------------------+--------------------+\n",
            "only showing top 20 rows\n",
            "\n"
          ]
        }
      ]
    },
    {
      "cell_type": "code",
      "source": [
        "training, testing = final_data.randomSplit([0.7,0.3],seed = 42)"
      ],
      "metadata": {
        "id": "1kyYEn-_lmxj"
      },
      "execution_count": null,
      "outputs": []
    },
    {
      "cell_type": "code",
      "source": [
        "from pyspark.ml.regression import LinearRegression"
      ],
      "metadata": {
        "id": "eekb_K0Nl2bl"
      },
      "execution_count": null,
      "outputs": []
    },
    {
      "cell_type": "code",
      "source": [
        "lr = LinearRegression(featuresCol='features', labelCol='Price', maxIter=10, regParam=0.3, elasticNetParam=0.8)\n",
        "#lr = LinearRegression(maxIter=10, regParam=0.3, elasticNetParam=0.8)\n",
        "lrModel = lr.fit(training)"
      ],
      "metadata": {
        "id": "vNHJgURkl67z"
      },
      "execution_count": null,
      "outputs": []
    },
    {
      "cell_type": "code",
      "source": [
        "trainingSummary = lrModel.summary"
      ],
      "metadata": {
        "id": "0PKnUEyonz1c"
      },
      "execution_count": null,
      "outputs": []
    },
    {
      "cell_type": "code",
      "source": [
        "print(\"RMSE: %f\" % trainingSummary.rootMeanSquaredError)\n",
        "print(\"r2: %f\" % trainingSummary.r2)"
      ],
      "metadata": {
        "colab": {
          "base_uri": "https://localhost:8080/"
        },
        "id": "ncD4zT6aoBsp",
        "outputId": "6e3312a3-87ad-48a0-a10a-2ab111397794"
      },
      "execution_count": null,
      "outputs": [
        {
          "output_type": "stream",
          "name": "stdout",
          "text": [
            "RMSE: 100953.785834\n",
            "r2: 0.916547\n"
          ]
        }
      ]
    },
    {
      "cell_type": "code",
      "source": [
        "from pyspark.ml.fpm import FPGrowth\n",
        "\n",
        "df = spark.createDataFrame([\n",
        "    (0, [1, 2, 5]),\n",
        "    (1, [1, 2, 3, 5]),\n",
        "    (2, [1, 2])\n",
        "], [\"id\", \"items\"])\n",
        "\n",
        "fpGrowth = FPGrowth(itemsCol=\"items\", minSupport=0.5, minConfidence=0.6)\n",
        "model = fpGrowth.fit(df)\n",
        "\n",
        "# Display frequent itemsets.\n",
        "model.freqItemsets.show()\n",
        "\n",
        "# Display generated association rules.\n",
        "model.associationRules.show()\n",
        "\n",
        "# transform examines the input items against all the association rules and summarize the\n",
        "# consequents as prediction\n",
        "model.transform(df).show()"
      ],
      "metadata": {
        "colab": {
          "base_uri": "https://localhost:8080/"
        },
        "id": "h-LTauxOjZy7",
        "outputId": "1cf7d895-6397-441e-8fde-237d526cab29"
      },
      "execution_count": null,
      "outputs": [
        {
          "output_type": "stream",
          "name": "stderr",
          "text": [
            "/usr/local/lib/python3.7/dist-packages/pyspark/sql/context.py:127: FutureWarning: Deprecated in 3.0.0. Use SparkSession.builder.getOrCreate() instead.\n",
            "  FutureWarning\n"
          ]
        },
        {
          "output_type": "stream",
          "name": "stdout",
          "text": [
            "+---------+----+\n",
            "|    items|freq|\n",
            "+---------+----+\n",
            "|      [1]|   3|\n",
            "|      [2]|   3|\n",
            "|   [2, 1]|   3|\n",
            "|      [5]|   2|\n",
            "|   [5, 2]|   2|\n",
            "|[5, 2, 1]|   2|\n",
            "|   [5, 1]|   2|\n",
            "+---------+----+\n",
            "\n",
            "+----------+----------+------------------+----+------------------+\n",
            "|antecedent|consequent|        confidence|lift|           support|\n",
            "+----------+----------+------------------+----+------------------+\n",
            "|    [5, 2]|       [1]|               1.0| 1.0|0.6666666666666666|\n",
            "|       [2]|       [1]|               1.0| 1.0|               1.0|\n",
            "|       [2]|       [5]|0.6666666666666666| 1.0|0.6666666666666666|\n",
            "|    [2, 1]|       [5]|0.6666666666666666| 1.0|0.6666666666666666|\n",
            "|       [5]|       [2]|               1.0| 1.0|0.6666666666666666|\n",
            "|       [5]|       [1]|               1.0| 1.0|0.6666666666666666|\n",
            "|    [5, 1]|       [2]|               1.0| 1.0|0.6666666666666666|\n",
            "|       [1]|       [2]|               1.0| 1.0|               1.0|\n",
            "|       [1]|       [5]|0.6666666666666666| 1.0|0.6666666666666666|\n",
            "+----------+----------+------------------+----+------------------+\n",
            "\n",
            "+---+------------+----------+\n",
            "| id|       items|prediction|\n",
            "+---+------------+----------+\n",
            "|  0|   [1, 2, 5]|        []|\n",
            "|  1|[1, 2, 3, 5]|        []|\n",
            "|  2|      [1, 2]|       [5]|\n",
            "+---+------------+----------+\n",
            "\n"
          ]
        }
      ]
    },
    {
      "cell_type": "code",
      "source": [
        "import pandas as pd\n",
        "colnames=['items',] \n",
        "\n",
        "dfx = pd.read_csv(\"/content/msnbc990928.csv\", names=colnames,header=None)"
      ],
      "metadata": {
        "id": "hlppDuVWrwMS"
      },
      "execution_count": null,
      "outputs": []
    },
    {
      "cell_type": "code",
      "source": [
        "dfx.head()"
      ],
      "metadata": {
        "colab": {
          "base_uri": "https://localhost:8080/",
          "height": 206
        },
        "id": "0eCI8dXVsM7T",
        "outputId": "b0867dc7-1652-4012-8fc1-c7f5e83b6de8"
      },
      "execution_count": null,
      "outputs": [
        {
          "output_type": "execute_result",
          "data": {
            "text/html": [
              "\n",
              "  <div id=\"df-42af898b-8958-4409-938e-72243634b466\">\n",
              "    <div class=\"colab-df-container\">\n",
              "      <div>\n",
              "<style scoped>\n",
              "    .dataframe tbody tr th:only-of-type {\n",
              "        vertical-align: middle;\n",
              "    }\n",
              "\n",
              "    .dataframe tbody tr th {\n",
              "        vertical-align: top;\n",
              "    }\n",
              "\n",
              "    .dataframe thead th {\n",
              "        text-align: right;\n",
              "    }\n",
              "</style>\n",
              "<table border=\"1\" class=\"dataframe\">\n",
              "  <thead>\n",
              "    <tr style=\"text-align: right;\">\n",
              "      <th></th>\n",
              "      <th>items</th>\n",
              "    </tr>\n",
              "  </thead>\n",
              "  <tbody>\n",
              "    <tr>\n",
              "      <th>0</th>\n",
              "      <td>1 1</td>\n",
              "    </tr>\n",
              "    <tr>\n",
              "      <th>1</th>\n",
              "      <td>2</td>\n",
              "    </tr>\n",
              "    <tr>\n",
              "      <th>2</th>\n",
              "      <td>3 2 2 4 2 2 2 3 3</td>\n",
              "    </tr>\n",
              "    <tr>\n",
              "      <th>3</th>\n",
              "      <td>5</td>\n",
              "    </tr>\n",
              "    <tr>\n",
              "      <th>4</th>\n",
              "      <td>1</td>\n",
              "    </tr>\n",
              "  </tbody>\n",
              "</table>\n",
              "</div>\n",
              "      <button class=\"colab-df-convert\" onclick=\"convertToInteractive('df-42af898b-8958-4409-938e-72243634b466')\"\n",
              "              title=\"Convert this dataframe to an interactive table.\"\n",
              "              style=\"display:none;\">\n",
              "        \n",
              "  <svg xmlns=\"http://www.w3.org/2000/svg\" height=\"24px\"viewBox=\"0 0 24 24\"\n",
              "       width=\"24px\">\n",
              "    <path d=\"M0 0h24v24H0V0z\" fill=\"none\"/>\n",
              "    <path d=\"M18.56 5.44l.94 2.06.94-2.06 2.06-.94-2.06-.94-.94-2.06-.94 2.06-2.06.94zm-11 1L8.5 8.5l.94-2.06 2.06-.94-2.06-.94L8.5 2.5l-.94 2.06-2.06.94zm10 10l.94 2.06.94-2.06 2.06-.94-2.06-.94-.94-2.06-.94 2.06-2.06.94z\"/><path d=\"M17.41 7.96l-1.37-1.37c-.4-.4-.92-.59-1.43-.59-.52 0-1.04.2-1.43.59L10.3 9.45l-7.72 7.72c-.78.78-.78 2.05 0 2.83L4 21.41c.39.39.9.59 1.41.59.51 0 1.02-.2 1.41-.59l7.78-7.78 2.81-2.81c.8-.78.8-2.07 0-2.86zM5.41 20L4 18.59l7.72-7.72 1.47 1.35L5.41 20z\"/>\n",
              "  </svg>\n",
              "      </button>\n",
              "      \n",
              "  <style>\n",
              "    .colab-df-container {\n",
              "      display:flex;\n",
              "      flex-wrap:wrap;\n",
              "      gap: 12px;\n",
              "    }\n",
              "\n",
              "    .colab-df-convert {\n",
              "      background-color: #E8F0FE;\n",
              "      border: none;\n",
              "      border-radius: 50%;\n",
              "      cursor: pointer;\n",
              "      display: none;\n",
              "      fill: #1967D2;\n",
              "      height: 32px;\n",
              "      padding: 0 0 0 0;\n",
              "      width: 32px;\n",
              "    }\n",
              "\n",
              "    .colab-df-convert:hover {\n",
              "      background-color: #E2EBFA;\n",
              "      box-shadow: 0px 1px 2px rgba(60, 64, 67, 0.3), 0px 1px 3px 1px rgba(60, 64, 67, 0.15);\n",
              "      fill: #174EA6;\n",
              "    }\n",
              "\n",
              "    [theme=dark] .colab-df-convert {\n",
              "      background-color: #3B4455;\n",
              "      fill: #D2E3FC;\n",
              "    }\n",
              "\n",
              "    [theme=dark] .colab-df-convert:hover {\n",
              "      background-color: #434B5C;\n",
              "      box-shadow: 0px 1px 3px 1px rgba(0, 0, 0, 0.15);\n",
              "      filter: drop-shadow(0px 1px 2px rgba(0, 0, 0, 0.3));\n",
              "      fill: #FFFFFF;\n",
              "    }\n",
              "  </style>\n",
              "\n",
              "      <script>\n",
              "        const buttonEl =\n",
              "          document.querySelector('#df-42af898b-8958-4409-938e-72243634b466 button.colab-df-convert');\n",
              "        buttonEl.style.display =\n",
              "          google.colab.kernel.accessAllowed ? 'block' : 'none';\n",
              "\n",
              "        async function convertToInteractive(key) {\n",
              "          const element = document.querySelector('#df-42af898b-8958-4409-938e-72243634b466');\n",
              "          const dataTable =\n",
              "            await google.colab.kernel.invokeFunction('convertToInteractive',\n",
              "                                                     [key], {});\n",
              "          if (!dataTable) return;\n",
              "\n",
              "          const docLinkHtml = 'Like what you see? Visit the ' +\n",
              "            '<a target=\"_blank\" href=https://colab.research.google.com/notebooks/data_table.ipynb>data table notebook</a>'\n",
              "            + ' to learn more about interactive tables.';\n",
              "          element.innerHTML = '';\n",
              "          dataTable['output_type'] = 'display_data';\n",
              "          await google.colab.output.renderOutput(dataTable, element);\n",
              "          const docLink = document.createElement('div');\n",
              "          docLink.innerHTML = docLinkHtml;\n",
              "          element.appendChild(docLink);\n",
              "        }\n",
              "      </script>\n",
              "    </div>\n",
              "  </div>\n",
              "  "
            ],
            "text/plain": [
              "                items\n",
              "0                1 1 \n",
              "1                  2 \n",
              "2  3 2 2 4 2 2 2 3 3 \n",
              "3                  5 \n",
              "4                  1 "
            ]
          },
          "metadata": {},
          "execution_count": 68
        }
      ]
    },
    {
      "cell_type": "code",
      "source": [
        "from pyspark.ml.fpm import FPGrowth\n",
        "dfx=spark.createDataFrame(x)\n",
        "fpGrowth = FPGrowth(itemsCol=\"items\", minSupport=0.5, minConfidence=0.6)\n",
        "model = fpGrowth.fit(dfx)\n",
        "\n",
        "# Display frequent itemsets.\n",
        "model.freqItemsets.show()\n",
        "\n",
        "# Display generated association rules.\n",
        "model.associationRules.show()\n",
        "\n",
        "# transform examines the input items against all the association rules and summarize the\n",
        "# consequents as prediction\n",
        "model.transform(dfx).show()"
      ],
      "metadata": {
        "colab": {
          "base_uri": "https://localhost:8080/",
          "height": 380
        },
        "id": "2_5qir1jsOO3",
        "outputId": "c3e53842-d946-4f9b-c96a-9842c1c3c5e1"
      },
      "execution_count": null,
      "outputs": [
        {
          "output_type": "error",
          "ename": "IllegalArgumentException",
          "evalue": "ignored",
          "traceback": [
            "\u001b[0;31m---------------------------------------------------------------------------\u001b[0m",
            "\u001b[0;31mIllegalArgumentException\u001b[0m                  Traceback (most recent call last)",
            "\u001b[0;32m<ipython-input-55-0ef9de36ab5a>\u001b[0m in \u001b[0;36m<module>\u001b[0;34m()\u001b[0m\n\u001b[1;32m      2\u001b[0m \u001b[0mdfx\u001b[0m\u001b[0;34m=\u001b[0m\u001b[0mspark\u001b[0m\u001b[0;34m.\u001b[0m\u001b[0mcreateDataFrame\u001b[0m\u001b[0;34m(\u001b[0m\u001b[0mx\u001b[0m\u001b[0;34m)\u001b[0m\u001b[0;34m\u001b[0m\u001b[0;34m\u001b[0m\u001b[0m\n\u001b[1;32m      3\u001b[0m \u001b[0mfpGrowth\u001b[0m \u001b[0;34m=\u001b[0m \u001b[0mFPGrowth\u001b[0m\u001b[0;34m(\u001b[0m\u001b[0mitemsCol\u001b[0m\u001b[0;34m=\u001b[0m\u001b[0;34m\"items\"\u001b[0m\u001b[0;34m,\u001b[0m \u001b[0mminSupport\u001b[0m\u001b[0;34m=\u001b[0m\u001b[0;36m0.5\u001b[0m\u001b[0;34m,\u001b[0m \u001b[0mminConfidence\u001b[0m\u001b[0;34m=\u001b[0m\u001b[0;36m0.6\u001b[0m\u001b[0;34m)\u001b[0m\u001b[0;34m\u001b[0m\u001b[0;34m\u001b[0m\u001b[0m\n\u001b[0;32m----> 4\u001b[0;31m \u001b[0mmodel\u001b[0m \u001b[0;34m=\u001b[0m \u001b[0mfpGrowth\u001b[0m\u001b[0;34m.\u001b[0m\u001b[0mfit\u001b[0m\u001b[0;34m(\u001b[0m\u001b[0mdfx\u001b[0m\u001b[0;34m)\u001b[0m\u001b[0;34m\u001b[0m\u001b[0;34m\u001b[0m\u001b[0m\n\u001b[0m\u001b[1;32m      5\u001b[0m \u001b[0;34m\u001b[0m\u001b[0m\n\u001b[1;32m      6\u001b[0m \u001b[0;31m# Display frequent itemsets.\u001b[0m\u001b[0;34m\u001b[0m\u001b[0;34m\u001b[0m\u001b[0;34m\u001b[0m\u001b[0m\n",
            "\u001b[0;32m/usr/local/lib/python3.7/dist-packages/pyspark/ml/base.py\u001b[0m in \u001b[0;36mfit\u001b[0;34m(self, dataset, params)\u001b[0m\n\u001b[1;32m    159\u001b[0m                 \u001b[0;32mreturn\u001b[0m \u001b[0mself\u001b[0m\u001b[0;34m.\u001b[0m\u001b[0mcopy\u001b[0m\u001b[0;34m(\u001b[0m\u001b[0mparams\u001b[0m\u001b[0;34m)\u001b[0m\u001b[0;34m.\u001b[0m\u001b[0m_fit\u001b[0m\u001b[0;34m(\u001b[0m\u001b[0mdataset\u001b[0m\u001b[0;34m)\u001b[0m\u001b[0;34m\u001b[0m\u001b[0;34m\u001b[0m\u001b[0m\n\u001b[1;32m    160\u001b[0m             \u001b[0;32melse\u001b[0m\u001b[0;34m:\u001b[0m\u001b[0;34m\u001b[0m\u001b[0;34m\u001b[0m\u001b[0m\n\u001b[0;32m--> 161\u001b[0;31m                 \u001b[0;32mreturn\u001b[0m \u001b[0mself\u001b[0m\u001b[0;34m.\u001b[0m\u001b[0m_fit\u001b[0m\u001b[0;34m(\u001b[0m\u001b[0mdataset\u001b[0m\u001b[0;34m)\u001b[0m\u001b[0;34m\u001b[0m\u001b[0;34m\u001b[0m\u001b[0m\n\u001b[0m\u001b[1;32m    162\u001b[0m         \u001b[0;32melse\u001b[0m\u001b[0;34m:\u001b[0m\u001b[0;34m\u001b[0m\u001b[0;34m\u001b[0m\u001b[0m\n\u001b[1;32m    163\u001b[0m             raise TypeError(\"Params must be either a param map or a list/tuple of param maps, \"\n",
            "\u001b[0;32m/usr/local/lib/python3.7/dist-packages/pyspark/ml/wrapper.py\u001b[0m in \u001b[0;36m_fit\u001b[0;34m(self, dataset)\u001b[0m\n\u001b[1;32m    333\u001b[0m \u001b[0;34m\u001b[0m\u001b[0m\n\u001b[1;32m    334\u001b[0m     \u001b[0;32mdef\u001b[0m \u001b[0m_fit\u001b[0m\u001b[0;34m(\u001b[0m\u001b[0mself\u001b[0m\u001b[0;34m,\u001b[0m \u001b[0mdataset\u001b[0m\u001b[0;34m)\u001b[0m\u001b[0;34m:\u001b[0m\u001b[0;34m\u001b[0m\u001b[0;34m\u001b[0m\u001b[0m\n\u001b[0;32m--> 335\u001b[0;31m         \u001b[0mjava_model\u001b[0m \u001b[0;34m=\u001b[0m \u001b[0mself\u001b[0m\u001b[0;34m.\u001b[0m\u001b[0m_fit_java\u001b[0m\u001b[0;34m(\u001b[0m\u001b[0mdataset\u001b[0m\u001b[0;34m)\u001b[0m\u001b[0;34m\u001b[0m\u001b[0;34m\u001b[0m\u001b[0m\n\u001b[0m\u001b[1;32m    336\u001b[0m         \u001b[0mmodel\u001b[0m \u001b[0;34m=\u001b[0m \u001b[0mself\u001b[0m\u001b[0;34m.\u001b[0m\u001b[0m_create_model\u001b[0m\u001b[0;34m(\u001b[0m\u001b[0mjava_model\u001b[0m\u001b[0;34m)\u001b[0m\u001b[0;34m\u001b[0m\u001b[0;34m\u001b[0m\u001b[0m\n\u001b[1;32m    337\u001b[0m         \u001b[0;32mreturn\u001b[0m \u001b[0mself\u001b[0m\u001b[0;34m.\u001b[0m\u001b[0m_copyValues\u001b[0m\u001b[0;34m(\u001b[0m\u001b[0mmodel\u001b[0m\u001b[0;34m)\u001b[0m\u001b[0;34m\u001b[0m\u001b[0;34m\u001b[0m\u001b[0m\n",
            "\u001b[0;32m/usr/local/lib/python3.7/dist-packages/pyspark/ml/wrapper.py\u001b[0m in \u001b[0;36m_fit_java\u001b[0;34m(self, dataset)\u001b[0m\n\u001b[1;32m    330\u001b[0m         \"\"\"\n\u001b[1;32m    331\u001b[0m         \u001b[0mself\u001b[0m\u001b[0;34m.\u001b[0m\u001b[0m_transfer_params_to_java\u001b[0m\u001b[0;34m(\u001b[0m\u001b[0;34m)\u001b[0m\u001b[0;34m\u001b[0m\u001b[0;34m\u001b[0m\u001b[0m\n\u001b[0;32m--> 332\u001b[0;31m         \u001b[0;32mreturn\u001b[0m \u001b[0mself\u001b[0m\u001b[0;34m.\u001b[0m\u001b[0m_java_obj\u001b[0m\u001b[0;34m.\u001b[0m\u001b[0mfit\u001b[0m\u001b[0;34m(\u001b[0m\u001b[0mdataset\u001b[0m\u001b[0;34m.\u001b[0m\u001b[0m_jdf\u001b[0m\u001b[0;34m)\u001b[0m\u001b[0;34m\u001b[0m\u001b[0;34m\u001b[0m\u001b[0m\n\u001b[0m\u001b[1;32m    333\u001b[0m \u001b[0;34m\u001b[0m\u001b[0m\n\u001b[1;32m    334\u001b[0m     \u001b[0;32mdef\u001b[0m \u001b[0m_fit\u001b[0m\u001b[0;34m(\u001b[0m\u001b[0mself\u001b[0m\u001b[0;34m,\u001b[0m \u001b[0mdataset\u001b[0m\u001b[0;34m)\u001b[0m\u001b[0;34m:\u001b[0m\u001b[0;34m\u001b[0m\u001b[0;34m\u001b[0m\u001b[0m\n",
            "\u001b[0;32m/usr/local/lib/python3.7/dist-packages/py4j/java_gateway.py\u001b[0m in \u001b[0;36m__call__\u001b[0;34m(self, *args)\u001b[0m\n\u001b[1;32m   1308\u001b[0m         \u001b[0manswer\u001b[0m \u001b[0;34m=\u001b[0m \u001b[0mself\u001b[0m\u001b[0;34m.\u001b[0m\u001b[0mgateway_client\u001b[0m\u001b[0;34m.\u001b[0m\u001b[0msend_command\u001b[0m\u001b[0;34m(\u001b[0m\u001b[0mcommand\u001b[0m\u001b[0;34m)\u001b[0m\u001b[0;34m\u001b[0m\u001b[0;34m\u001b[0m\u001b[0m\n\u001b[1;32m   1309\u001b[0m         return_value = get_return_value(\n\u001b[0;32m-> 1310\u001b[0;31m             answer, self.gateway_client, self.target_id, self.name)\n\u001b[0m\u001b[1;32m   1311\u001b[0m \u001b[0;34m\u001b[0m\u001b[0m\n\u001b[1;32m   1312\u001b[0m         \u001b[0;32mfor\u001b[0m \u001b[0mtemp_arg\u001b[0m \u001b[0;32min\u001b[0m \u001b[0mtemp_args\u001b[0m\u001b[0;34m:\u001b[0m\u001b[0;34m\u001b[0m\u001b[0;34m\u001b[0m\u001b[0m\n",
            "\u001b[0;32m/usr/local/lib/python3.7/dist-packages/pyspark/sql/utils.py\u001b[0m in \u001b[0;36mdeco\u001b[0;34m(*a, **kw)\u001b[0m\n\u001b[1;32m    115\u001b[0m                 \u001b[0;31m# Hide where the exception came from that shows a non-Pythonic\u001b[0m\u001b[0;34m\u001b[0m\u001b[0;34m\u001b[0m\u001b[0;34m\u001b[0m\u001b[0m\n\u001b[1;32m    116\u001b[0m                 \u001b[0;31m# JVM exception message.\u001b[0m\u001b[0;34m\u001b[0m\u001b[0;34m\u001b[0m\u001b[0;34m\u001b[0m\u001b[0m\n\u001b[0;32m--> 117\u001b[0;31m                 \u001b[0;32mraise\u001b[0m \u001b[0mconverted\u001b[0m \u001b[0;32mfrom\u001b[0m \u001b[0;32mNone\u001b[0m\u001b[0;34m\u001b[0m\u001b[0;34m\u001b[0m\u001b[0m\n\u001b[0m\u001b[1;32m    118\u001b[0m             \u001b[0;32melse\u001b[0m\u001b[0;34m:\u001b[0m\u001b[0;34m\u001b[0m\u001b[0;34m\u001b[0m\u001b[0m\n\u001b[1;32m    119\u001b[0m                 \u001b[0;32mraise\u001b[0m\u001b[0;34m\u001b[0m\u001b[0;34m\u001b[0m\u001b[0m\n",
            "\u001b[0;31mIllegalArgumentException\u001b[0m: requirement failed: The input column must be array, but got string."
          ]
        }
      ]
    },
    {
      "cell_type": "code",
      "source": [
        "from pyspark.ml.clustering import KMeans\n",
        "from pyspark.ml.evaluation import ClusteringEvaluator\n",
        "\n",
        "# Loads data.\n",
        "dataset = spark.createDataFrame(dfx)\n",
        "\n",
        "# Trains a k-means model.\n",
        "kmeans = KMeans().setK(2).setSeed(1)\n",
        "model = kmeans.fit(dataset)\n",
        "\n",
        "# Make predictions\n",
        "predictions = model.transform(dataset)\n",
        "\n",
        "# Evaluate clustering by computing Silhouette score\n",
        "evaluator = ClusteringEvaluator()\n",
        "\n",
        "silhouette = evaluator.evaluate(predictions)\n",
        "print(\"Silhouette with squared euclidean distance = \" + str(silhouette))\n",
        "\n",
        "# Shows the result.\n",
        "centers = model.clusterCenters()\n",
        "print(\"Cluster Centers: \")\n",
        "for center in centers:\n",
        "    print(center)"
      ],
      "metadata": {
        "colab": {
          "base_uri": "https://localhost:8080/",
          "height": 380
        },
        "id": "APUT2DBh2l0M",
        "outputId": "c641a7ed-9284-430c-862b-4bd9cbb8625e"
      },
      "execution_count": null,
      "outputs": [
        {
          "output_type": "error",
          "ename": "IllegalArgumentException",
          "evalue": "ignored",
          "traceback": [
            "\u001b[0;31m---------------------------------------------------------------------------\u001b[0m",
            "\u001b[0;31mIllegalArgumentException\u001b[0m                  Traceback (most recent call last)",
            "\u001b[0;32m<ipython-input-70-94e9df063fb6>\u001b[0m in \u001b[0;36m<module>\u001b[0;34m()\u001b[0m\n\u001b[1;32m      7\u001b[0m \u001b[0;31m# Trains a k-means model.\u001b[0m\u001b[0;34m\u001b[0m\u001b[0;34m\u001b[0m\u001b[0;34m\u001b[0m\u001b[0m\n\u001b[1;32m      8\u001b[0m \u001b[0mkmeans\u001b[0m \u001b[0;34m=\u001b[0m \u001b[0mKMeans\u001b[0m\u001b[0;34m(\u001b[0m\u001b[0;34m)\u001b[0m\u001b[0;34m.\u001b[0m\u001b[0msetK\u001b[0m\u001b[0;34m(\u001b[0m\u001b[0;36m2\u001b[0m\u001b[0;34m)\u001b[0m\u001b[0;34m.\u001b[0m\u001b[0msetSeed\u001b[0m\u001b[0;34m(\u001b[0m\u001b[0;36m1\u001b[0m\u001b[0;34m)\u001b[0m\u001b[0;34m\u001b[0m\u001b[0;34m\u001b[0m\u001b[0m\n\u001b[0;32m----> 9\u001b[0;31m \u001b[0mmodel\u001b[0m \u001b[0;34m=\u001b[0m \u001b[0mkmeans\u001b[0m\u001b[0;34m.\u001b[0m\u001b[0mfit\u001b[0m\u001b[0;34m(\u001b[0m\u001b[0mdataset\u001b[0m\u001b[0;34m)\u001b[0m\u001b[0;34m\u001b[0m\u001b[0;34m\u001b[0m\u001b[0m\n\u001b[0m\u001b[1;32m     10\u001b[0m \u001b[0;34m\u001b[0m\u001b[0m\n\u001b[1;32m     11\u001b[0m \u001b[0;31m# Make predictions\u001b[0m\u001b[0;34m\u001b[0m\u001b[0;34m\u001b[0m\u001b[0;34m\u001b[0m\u001b[0m\n",
            "\u001b[0;32m/usr/local/lib/python3.7/dist-packages/pyspark/ml/base.py\u001b[0m in \u001b[0;36mfit\u001b[0;34m(self, dataset, params)\u001b[0m\n\u001b[1;32m    159\u001b[0m                 \u001b[0;32mreturn\u001b[0m \u001b[0mself\u001b[0m\u001b[0;34m.\u001b[0m\u001b[0mcopy\u001b[0m\u001b[0;34m(\u001b[0m\u001b[0mparams\u001b[0m\u001b[0;34m)\u001b[0m\u001b[0;34m.\u001b[0m\u001b[0m_fit\u001b[0m\u001b[0;34m(\u001b[0m\u001b[0mdataset\u001b[0m\u001b[0;34m)\u001b[0m\u001b[0;34m\u001b[0m\u001b[0;34m\u001b[0m\u001b[0m\n\u001b[1;32m    160\u001b[0m             \u001b[0;32melse\u001b[0m\u001b[0;34m:\u001b[0m\u001b[0;34m\u001b[0m\u001b[0;34m\u001b[0m\u001b[0m\n\u001b[0;32m--> 161\u001b[0;31m                 \u001b[0;32mreturn\u001b[0m \u001b[0mself\u001b[0m\u001b[0;34m.\u001b[0m\u001b[0m_fit\u001b[0m\u001b[0;34m(\u001b[0m\u001b[0mdataset\u001b[0m\u001b[0;34m)\u001b[0m\u001b[0;34m\u001b[0m\u001b[0;34m\u001b[0m\u001b[0m\n\u001b[0m\u001b[1;32m    162\u001b[0m         \u001b[0;32melse\u001b[0m\u001b[0;34m:\u001b[0m\u001b[0;34m\u001b[0m\u001b[0;34m\u001b[0m\u001b[0m\n\u001b[1;32m    163\u001b[0m             raise TypeError(\"Params must be either a param map or a list/tuple of param maps, \"\n",
            "\u001b[0;32m/usr/local/lib/python3.7/dist-packages/pyspark/ml/wrapper.py\u001b[0m in \u001b[0;36m_fit\u001b[0;34m(self, dataset)\u001b[0m\n\u001b[1;32m    333\u001b[0m \u001b[0;34m\u001b[0m\u001b[0m\n\u001b[1;32m    334\u001b[0m     \u001b[0;32mdef\u001b[0m \u001b[0m_fit\u001b[0m\u001b[0;34m(\u001b[0m\u001b[0mself\u001b[0m\u001b[0;34m,\u001b[0m \u001b[0mdataset\u001b[0m\u001b[0;34m)\u001b[0m\u001b[0;34m:\u001b[0m\u001b[0;34m\u001b[0m\u001b[0;34m\u001b[0m\u001b[0m\n\u001b[0;32m--> 335\u001b[0;31m         \u001b[0mjava_model\u001b[0m \u001b[0;34m=\u001b[0m \u001b[0mself\u001b[0m\u001b[0;34m.\u001b[0m\u001b[0m_fit_java\u001b[0m\u001b[0;34m(\u001b[0m\u001b[0mdataset\u001b[0m\u001b[0;34m)\u001b[0m\u001b[0;34m\u001b[0m\u001b[0;34m\u001b[0m\u001b[0m\n\u001b[0m\u001b[1;32m    336\u001b[0m         \u001b[0mmodel\u001b[0m \u001b[0;34m=\u001b[0m \u001b[0mself\u001b[0m\u001b[0;34m.\u001b[0m\u001b[0m_create_model\u001b[0m\u001b[0;34m(\u001b[0m\u001b[0mjava_model\u001b[0m\u001b[0;34m)\u001b[0m\u001b[0;34m\u001b[0m\u001b[0;34m\u001b[0m\u001b[0m\n\u001b[1;32m    337\u001b[0m         \u001b[0;32mreturn\u001b[0m \u001b[0mself\u001b[0m\u001b[0;34m.\u001b[0m\u001b[0m_copyValues\u001b[0m\u001b[0;34m(\u001b[0m\u001b[0mmodel\u001b[0m\u001b[0;34m)\u001b[0m\u001b[0;34m\u001b[0m\u001b[0;34m\u001b[0m\u001b[0m\n",
            "\u001b[0;32m/usr/local/lib/python3.7/dist-packages/pyspark/ml/wrapper.py\u001b[0m in \u001b[0;36m_fit_java\u001b[0;34m(self, dataset)\u001b[0m\n\u001b[1;32m    330\u001b[0m         \"\"\"\n\u001b[1;32m    331\u001b[0m         \u001b[0mself\u001b[0m\u001b[0;34m.\u001b[0m\u001b[0m_transfer_params_to_java\u001b[0m\u001b[0;34m(\u001b[0m\u001b[0;34m)\u001b[0m\u001b[0;34m\u001b[0m\u001b[0;34m\u001b[0m\u001b[0m\n\u001b[0;32m--> 332\u001b[0;31m         \u001b[0;32mreturn\u001b[0m \u001b[0mself\u001b[0m\u001b[0;34m.\u001b[0m\u001b[0m_java_obj\u001b[0m\u001b[0;34m.\u001b[0m\u001b[0mfit\u001b[0m\u001b[0;34m(\u001b[0m\u001b[0mdataset\u001b[0m\u001b[0;34m.\u001b[0m\u001b[0m_jdf\u001b[0m\u001b[0;34m)\u001b[0m\u001b[0;34m\u001b[0m\u001b[0;34m\u001b[0m\u001b[0m\n\u001b[0m\u001b[1;32m    333\u001b[0m \u001b[0;34m\u001b[0m\u001b[0m\n\u001b[1;32m    334\u001b[0m     \u001b[0;32mdef\u001b[0m \u001b[0m_fit\u001b[0m\u001b[0;34m(\u001b[0m\u001b[0mself\u001b[0m\u001b[0;34m,\u001b[0m \u001b[0mdataset\u001b[0m\u001b[0;34m)\u001b[0m\u001b[0;34m:\u001b[0m\u001b[0;34m\u001b[0m\u001b[0;34m\u001b[0m\u001b[0m\n",
            "\u001b[0;32m/usr/local/lib/python3.7/dist-packages/py4j/java_gateway.py\u001b[0m in \u001b[0;36m__call__\u001b[0;34m(self, *args)\u001b[0m\n\u001b[1;32m   1308\u001b[0m         \u001b[0manswer\u001b[0m \u001b[0;34m=\u001b[0m \u001b[0mself\u001b[0m\u001b[0;34m.\u001b[0m\u001b[0mgateway_client\u001b[0m\u001b[0;34m.\u001b[0m\u001b[0msend_command\u001b[0m\u001b[0;34m(\u001b[0m\u001b[0mcommand\u001b[0m\u001b[0;34m)\u001b[0m\u001b[0;34m\u001b[0m\u001b[0;34m\u001b[0m\u001b[0m\n\u001b[1;32m   1309\u001b[0m         return_value = get_return_value(\n\u001b[0;32m-> 1310\u001b[0;31m             answer, self.gateway_client, self.target_id, self.name)\n\u001b[0m\u001b[1;32m   1311\u001b[0m \u001b[0;34m\u001b[0m\u001b[0m\n\u001b[1;32m   1312\u001b[0m         \u001b[0;32mfor\u001b[0m \u001b[0mtemp_arg\u001b[0m \u001b[0;32min\u001b[0m \u001b[0mtemp_args\u001b[0m\u001b[0;34m:\u001b[0m\u001b[0;34m\u001b[0m\u001b[0;34m\u001b[0m\u001b[0m\n",
            "\u001b[0;32m/usr/local/lib/python3.7/dist-packages/pyspark/sql/utils.py\u001b[0m in \u001b[0;36mdeco\u001b[0;34m(*a, **kw)\u001b[0m\n\u001b[1;32m    115\u001b[0m                 \u001b[0;31m# Hide where the exception came from that shows a non-Pythonic\u001b[0m\u001b[0;34m\u001b[0m\u001b[0;34m\u001b[0m\u001b[0;34m\u001b[0m\u001b[0m\n\u001b[1;32m    116\u001b[0m                 \u001b[0;31m# JVM exception message.\u001b[0m\u001b[0;34m\u001b[0m\u001b[0;34m\u001b[0m\u001b[0;34m\u001b[0m\u001b[0m\n\u001b[0;32m--> 117\u001b[0;31m                 \u001b[0;32mraise\u001b[0m \u001b[0mconverted\u001b[0m \u001b[0;32mfrom\u001b[0m \u001b[0;32mNone\u001b[0m\u001b[0;34m\u001b[0m\u001b[0;34m\u001b[0m\u001b[0m\n\u001b[0m\u001b[1;32m    118\u001b[0m             \u001b[0;32melse\u001b[0m\u001b[0;34m:\u001b[0m\u001b[0;34m\u001b[0m\u001b[0;34m\u001b[0m\u001b[0m\n\u001b[1;32m    119\u001b[0m                 \u001b[0;32mraise\u001b[0m\u001b[0;34m\u001b[0m\u001b[0;34m\u001b[0m\u001b[0m\n",
            "\u001b[0;31mIllegalArgumentException\u001b[0m: features does not exist. Available: items"
          ]
        }
      ]
    },
    {
      "cell_type": "markdown",
      "source": [
        "##Graph Frame"
      ],
      "metadata": {
        "id": "5W1veVFoYT0F"
      }
    },
    {
      "cell_type": "code",
      "source": [
        "# creating a simple Graph\n",
        "id, name\n",
        "1, Dhaka\n",
        "2, Khulna\n",
        "3, Gazipur\n"
      ],
      "metadata": {
        "id": "KMNl_1MzYsx_"
      },
      "execution_count": null,
      "outputs": []
    },
    {
      "cell_type": "code",
      "source": [
        "from graphframes import *\n",
        "from pyspark.sql import SQLContext\n",
        "\n",
        "sqlContex = SQLContex(sc)\n",
        "#vetices\n",
        "v = sqlContex.createDataFrame([(1, \"Dhaka\"), (2, \"Khulna\"), (3, \"Gazipur\")],[\"id\",\"name\"])\n",
        "#edges\n",
        "e = sqlContex.createDataFrame([(1,2,350),(1,3,30),(2,1,400),(2,3,450),(3,1,35),(3,2,500)],[\"src\",\"dist\",\"distance\"])\n",
        "\n",
        "g = GraphFrame(v, e)\n",
        "g.vertices.show()\n"
      ],
      "metadata": {
        "colab": {
          "base_uri": "https://localhost:8080/",
          "height": 235
        },
        "id": "5pNqurOAYW75",
        "outputId": "aa3dbe57-72dd-48f0-be63-30d67c2b4f4a"
      },
      "execution_count": null,
      "outputs": [
        {
          "output_type": "error",
          "ename": "NameError",
          "evalue": "ignored",
          "traceback": [
            "\u001b[0;31m---------------------------------------------------------------------------\u001b[0m",
            "\u001b[0;31mNameError\u001b[0m                                 Traceback (most recent call last)",
            "\u001b[0;32m<ipython-input-14-8b1bc99947c3>\u001b[0m in \u001b[0;36m<module>\u001b[0;34m()\u001b[0m\n\u001b[1;32m      2\u001b[0m \u001b[0;32mfrom\u001b[0m \u001b[0mpyspark\u001b[0m\u001b[0;34m.\u001b[0m\u001b[0msql\u001b[0m \u001b[0;32mimport\u001b[0m \u001b[0mSQLContext\u001b[0m\u001b[0;34m\u001b[0m\u001b[0;34m\u001b[0m\u001b[0m\n\u001b[1;32m      3\u001b[0m \u001b[0;34m\u001b[0m\u001b[0m\n\u001b[0;32m----> 4\u001b[0;31m \u001b[0msqlContex\u001b[0m \u001b[0;34m=\u001b[0m \u001b[0mSQLContex\u001b[0m\u001b[0;34m(\u001b[0m\u001b[0msc\u001b[0m\u001b[0;34m)\u001b[0m\u001b[0;34m\u001b[0m\u001b[0;34m\u001b[0m\u001b[0m\n\u001b[0m\u001b[1;32m      5\u001b[0m \u001b[0;31m#vetices\u001b[0m\u001b[0;34m\u001b[0m\u001b[0;34m\u001b[0m\u001b[0;34m\u001b[0m\u001b[0m\n\u001b[1;32m      6\u001b[0m \u001b[0mv\u001b[0m \u001b[0;34m=\u001b[0m \u001b[0msqlContex\u001b[0m\u001b[0;34m.\u001b[0m\u001b[0mcreateDataFrame\u001b[0m\u001b[0;34m(\u001b[0m\u001b[0;34m[\u001b[0m\u001b[0;34m(\u001b[0m\u001b[0;36m1\u001b[0m\u001b[0;34m,\u001b[0m \u001b[0;34m\"Dhaka\"\u001b[0m\u001b[0;34m)\u001b[0m\u001b[0;34m,\u001b[0m \u001b[0;34m(\u001b[0m\u001b[0;36m2\u001b[0m\u001b[0;34m,\u001b[0m \u001b[0;34m\"Khulna\"\u001b[0m\u001b[0;34m)\u001b[0m\u001b[0;34m,\u001b[0m \u001b[0;34m(\u001b[0m\u001b[0;36m3\u001b[0m\u001b[0;34m,\u001b[0m \u001b[0;34m\"Gazipur\"\u001b[0m\u001b[0;34m)\u001b[0m\u001b[0;34m]\u001b[0m\u001b[0;34m,\u001b[0m\u001b[0;34m[\u001b[0m\u001b[0;34m\"id\"\u001b[0m\u001b[0;34m,\u001b[0m\u001b[0;34m\"name\"\u001b[0m\u001b[0;34m]\u001b[0m\u001b[0;34m)\u001b[0m\u001b[0;34m\u001b[0m\u001b[0;34m\u001b[0m\u001b[0m\n",
            "\u001b[0;31mNameError\u001b[0m: name 'SQLContex' is not defined"
          ]
        }
      ]
    }
  ]
}